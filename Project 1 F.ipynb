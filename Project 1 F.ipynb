{
 "cells": [
  {
   "cell_type": "markdown",
   "metadata": {
    "id": "CdnLkP1EaP4u"
   },
   "source": [
    "# <center>The tip of the iceberg</center>  \n",
    "<center><i>Mandatory project #1</i></center>  \n",
    "<center><b>Jianing Shi, Reynel Villabona gonzalez, Atanu Das and John Emeka Udegbunam</b></center>  \n",
    "\n",
    "<center>Date: <b>12 09 2021</b></center>"
   ]
  },
  {
   "cell_type": "code",
   "execution_count": 2,
   "metadata": {
    "id": "pcyn9Qx9d3ET"
   },
   "outputs": [],
   "source": [
    "%matplotlib inline\n",
    "\n",
    "# Import the packages we plan to use\n",
    "import matplotlib.pyplot as plt\n",
    "import numpy as np\n",
    "import pandas as pd\n",
    "import rockhound as rh\n",
    "import cmocean"
   ]
  },
  {
   "cell_type": "markdown",
   "metadata": {
    "id": "BaNxVG5SgUZA"
   },
   "source": [
    "## <center><b>Abstract</i></center>"
   ]
  },
  {
   "cell_type": "markdown",
   "metadata": {
    "id": "H9vIEayEIPiE"
   },
   "source": [
    "The first part of this project gives a clear idea of handling the errors of floating-point arithmetic by using different packages in Python programming language. If we always want to design our own functions for our programs it will be time consuming as well as cannot be always efficient. Rather we can solve these problems by importing some useful Python library more efficiently in a structural way where we have used different classes and also by implementing these packages, we can get an idea how these work in scientific computing field. And at the end part of this project we learnt how to import ice data for Antarctica by using the rockhound library"
   ]
  },
  {
   "cell_type": "markdown",
   "metadata": {
    "id": "297OiF-aEkdA"
   },
   "source": [
    "## Introduction"
   ]
  },
  {
   "cell_type": "markdown",
   "metadata": {
    "id": "IE9cl66G_-Vd"
   },
   "source": [
    "Python is an object-oriented, high-level programming language [0], which is useful at the moment to analyze big amounts of data, in a precise and efficient way. Having said that, it is important to highlight that in the course of Modeling and computational Engineering We will use it, in order to understand the behavior of the data that we have so we can make better predictions based on it.\n",
    "\n",
    "To start it is essential to learn how it works, this means we will review main libraries, main functions and how its memory works so we can take at look of the errors that we might see in the future and could affect our calculus.\n",
    "Further we will see two different methods (Forward difference and Central) to get the derivatives of a function and we will compare it against the numerical derivative, also here we will learn how to plot, and we will be able to see the errors that could occur due to the Binary system that python has to store the numbers. Additionally, we will learn how classes in coding makes us the life easier.\n",
    "\n",
    "Finally, we will going over data bases and solution of real-life problems, this has the objective to start to make the relationship between our acquired knowledge and applications. Here we will go deep on how to make nicer plots and solve-through-analyze problems.\n",
    "\n",
    "At the end we will show the insights that each of us get from each exercise and what we learnt from them"
   ]
  },
  {
   "cell_type": "markdown",
   "metadata": {
    "id": "Est2c9rbEqX6"
   },
   "source": [
    "## Exercise 1: Finit-precision arithmetic  "
   ]
  },
  {
   "cell_type": "markdown",
   "metadata": {
    "id": "u3IIiIgqEyd-"
   },
   "source": [
    "### Part 1. Run the following code snippet:"
   ]
  },
  {
   "cell_type": "code",
   "execution_count": null,
   "metadata": {
    "colab": {
     "base_uri": "https://localhost:8080/"
    },
    "executionInfo": {
     "elapsed": 420,
     "status": "ok",
     "timestamp": 1631144296153,
     "user": {
      "displayName": "Fay Huang",
      "photoUrl": "https://lh3.googleusercontent.com/a-/AOh14GgEHga5YZ6kdxfRMMqnx09wPooznOEf_dOVV7wt=s64",
      "userId": "00997626494185497686"
     },
     "user_tz": -120
    },
    "id": "sU_MG8RxE3Vm",
    "outputId": "fac2c8d7-3d79-4624-fc71-17d4b0433f6e"
   },
   "outputs": [
    {
     "data": {
      "text/plain": [
       "sys.float_info(max=1.7976931348623157e+308, max_exp=1024, max_10_exp=308, min=2.2250738585072014e-308, min_exp=-1021, min_10_exp=-307, dig=15, mant_dig=53, epsilon=2.220446049250313e-16, radix=2, rounds=1)"
      ]
     },
     "execution_count": 3,
     "metadata": {},
     "output_type": "execute_result"
    }
   ],
   "source": [
    "import sys\n",
    "sys.float_info"
   ]
  },
  {
   "cell_type": "markdown",
   "metadata": {
    "id": "CyQyl6jJE1f9"
   },
   "source": [
    "* **Explain the meaning of the the printed-out number,using the IEEE Standard for floating-point arithemtic.**  \n",
    "  **max** : The maximum representable positive finite float.  \n",
    "  **max\\_exp**: The maximum integer $\\it e\\,$ such that ${\\rm base}^{(\\it e-1)}\\,$ is a representable finite float.  \n",
    "  **max\\_10\\_exp**: The maximum integer $\\it e\\,$ such that ${10}^{\\it e}\\,$ is in the range of representable finite floats.  \n",
    "    **min**: The minimum representable positive normalized float.  \n",
    "    **min\\_exp**: The minimum integer $\\it e\\,$ such that ${\\rm base}^{(\\it e-1)}\\,$ is a normalized float.  \n",
    "    **min\\_10\\_exp**: The minimum integer $\\it e\\,$ such that ${10}^{\\it e}\\,$ is a normalized float.  \n",
    "    **dig**: The maximum number of decimal digits that can be faithfully represented in a float.  \n",
    "    **mant_dig**: The float precision: the number of base-radix digits in the significand of a float.  \n",
    "    **epsilon**: The difference between 1.0 and the least value greater than 1.0 that is representable as a float.  \n",
    "    **radix**: The radix of exponent representation.  \n",
    "    **rounds**: The integer constant representing the rounding mode used for arithmetic operations.  "
   ]
  },
  {
   "cell_type": "markdown",
   "metadata": {
    "id": "m4L3NqGMFQhk"
   },
   "source": [
    "### Part 2.\n",
    "* **Derive the following values yourself: *max*, *min*, *epsilon*.**  \n",
    "  **max** : For the “IEEE 754”about the precision floating point number, there are 11 bits for the exponent and 52 bits for the fraction. The exponent is an 11-bit biased as $2^{10}–1=1023$. Thus, the largest number we can get is the exponent 11111111110 which in decimal is 1023.  \n",
    "  \n",
    "  $$ \\underbrace{1.1111\\ldots11\\times 2^{1023}}_{\\rm Binary\\,Scientific} = \\underbrace{0\\,11111111110\\,111\\cdots11}_{\\rm Binary\\,Floating}2 $$ \n",
    "  \n",
    "  So we can calculate the maximum representable positive finite float:\n",
    "  \n",
    "  $$2^{1023}\\times\\sum_{i=0}^{52}2^{-i}=2^{1023}\\times(2^1-2^{-52})\\approx1.798\\times 10^{308}$$ \n",
    "  \n",
    "  ![jupyter](https://miro.medium.com/max/618/0*Hsfkh1d3QUDzCH22.png)  \n",
    "  \n",
    "  $$\\,\\rm {\\color{grey}{Figure\\,1:\\,1IEEE\\,754\\,double-precision\\,floating\\,point\\,number\\,(https://en.wikipedia.org/wiki/File:IEEE\\_754\\_Double\\_Floating\\_Point\\_Format.svg)}}$$  \n",
    "  \n",
    "   **min**: In the same way, make the significand all $0$s for smallest positive exponent is -1022. $1\\times2^{–1022}\\approx0$  \n",
    "    **epsilon**: $\\epsilon=2^{-52}=2.22\\times10^{-16}$ [1][2][3]"
   ]
  },
  {
   "cell_type": "markdown",
   "metadata": {
    "id": "x1MkQMLtFwho"
   },
   "source": [
    "### Part 3. In Python, typing 0.1+0.2 does not (typically) produce the same output as 0.3."
   ]
  },
  {
   "cell_type": "code",
   "execution_count": null,
   "metadata": {
    "colab": {
     "base_uri": "https://localhost:8080/"
    },
    "executionInfo": {
     "elapsed": 527,
     "status": "ok",
     "timestamp": 1631144308556,
     "user": {
      "displayName": "Fay Huang",
      "photoUrl": "https://lh3.googleusercontent.com/a-/AOh14GgEHga5YZ6kdxfRMMqnx09wPooznOEf_dOVV7wt=s64",
      "userId": "00997626494185497686"
     },
     "user_tz": -120
    },
    "id": "RJCtcMbwFw1P",
    "outputId": "88ea41cd-dd2e-41fa-e768-44a400d81d45"
   },
   "outputs": [
    {
     "data": {
      "text/plain": [
       "0.30000000000000004"
      ]
     },
     "execution_count": 4,
     "metadata": {},
     "output_type": "execute_result"
    }
   ],
   "source": [
    "0.1+0.2 "
   ]
  },
  {
   "cell_type": "markdown",
   "metadata": {
    "id": "HvrTpt6vF1of"
   },
   "source": [
    "* **Why not?**  \n",
    "  The numbers are represented using a 53-bit mantissa multiplied by a power of two. For the number 0.1, the best match is $7205759403792794\\times 2^{-56}$. It is just slightly larger than 0.1, about 0.10000000000000000555. While for 0.2, the computer will use $7205759403792794\\times 2^{-55}$ or about 0.2000000000000000111. Thus, 0.1+0.2 does not output as 0.3(0.29999999999999998889776975).[4]"
   ]
  },
  {
   "cell_type": "markdown",
   "metadata": {
    "id": "96-pCUcjF19b"
   },
   "source": [
    "### Part 4.\n",
    "* **Should you use the ==-operator to test whether two floating-point numbers are equal?**  \n",
    "  No, we cannot use the ==-operator."
   ]
  },
  {
   "cell_type": "code",
   "execution_count": null,
   "metadata": {
    "colab": {
     "base_uri": "https://localhost:8080/"
    },
    "executionInfo": {
     "elapsed": 313,
     "status": "ok",
     "timestamp": 1631144313386,
     "user": {
      "displayName": "Fay Huang",
      "photoUrl": "https://lh3.googleusercontent.com/a-/AOh14GgEHga5YZ6kdxfRMMqnx09wPooznOEf_dOVV7wt=s64",
      "userId": "00997626494185497686"
     },
     "user_tz": -120
    },
    "id": "L_ZNzpmIGSZF",
    "outputId": "1ef8539a-5a94-4737-b78e-69fd679680cf"
   },
   "outputs": [
    {
     "data": {
      "text/plain": [
       "False"
      ]
     },
     "execution_count": 5,
     "metadata": {},
     "output_type": "execute_result"
    }
   ],
   "source": [
    "0.1+0.2==0.3"
   ]
  },
  {
   "cell_type": "markdown",
   "metadata": {
    "id": "uFKVrlAHF2oc"
   },
   "source": [
    "* **Why/why no?**  \n",
    "  The reason is the same as Part 3, comparing floating-point values by using either the equality (==) or inequality (!=) operators is not always accurate because of rounding errors. But we can try the difference between 0.1+0.2 and 0.3 with comparing of a very small number 1e-9 instead.[5]"
   ]
  },
  {
   "cell_type": "code",
   "execution_count": null,
   "metadata": {
    "colab": {
     "base_uri": "https://localhost:8080/"
    },
    "executionInfo": {
     "elapsed": 291,
     "status": "ok",
     "timestamp": 1631144317051,
     "user": {
      "displayName": "Fay Huang",
      "photoUrl": "https://lh3.googleusercontent.com/a-/AOh14GgEHga5YZ6kdxfRMMqnx09wPooznOEf_dOVV7wt=s64",
      "userId": "00997626494185497686"
     },
     "user_tz": -120
    },
    "id": "mPIUcSgLGe0o",
    "outputId": "4462fae3-7dd9-43c1-ca2e-347847da8909"
   },
   "outputs": [
    {
     "data": {
      "text/plain": [
       "True"
      ]
     },
     "execution_count": 6,
     "metadata": {},
     "output_type": "execute_result"
    }
   ],
   "source": [
    "abs(0.1+0.2 - 0.3) < 1e-9"
   ]
  },
  {
   "cell_type": "markdown",
   "metadata": {
    "id": "L_DlUhKiGfDq"
   },
   "source": [
    "## Exercise 2: Need for speed? (NumPy)  \n",
    "\n",
    "\n",
    "\n",
    "### Part 1. The following code block gives an example of a vectorized function:"
   ]
  },
  {
   "cell_type": "code",
   "execution_count": null,
   "metadata": {
    "colab": {
     "base_uri": "https://localhost:8080/"
    },
    "executionInfo": {
     "elapsed": 315,
     "status": "ok",
     "timestamp": 1631144337742,
     "user": {
      "displayName": "Fay Huang",
      "photoUrl": "https://lh3.googleusercontent.com/a-/AOh14GgEHga5YZ6kdxfRMMqnx09wPooznOEf_dOVV7wt=s64",
      "userId": "00997626494185497686"
     },
     "user_tz": -120
    },
    "id": "sR7N6LYAGq1N",
    "outputId": "e9a23c72-6463-420e-c861-ab3c297680b8"
   },
   "outputs": [
    {
     "data": {
      "text/plain": [
       "array([1.        , 0.89483932, 0.8007374 , 0.71653131, 0.64118039,\n",
       "       0.57375342, 0.51341712, 0.45942582, 0.41111229, 0.36787944])"
      ]
     },
     "execution_count": 7,
     "metadata": {},
     "output_type": "execute_result"
    }
   ],
   "source": [
    "x = np.linspace(0, 1, 10)\n",
    "fx = np.exp(-x)\n",
    "fx"
   ]
  },
  {
   "cell_type": "markdown",
   "metadata": {
    "id": "09gFh2HAGm1B"
   },
   "source": [
    "* **What happens if you change x to be a list?**  \n",
    "  Cannot assign all the elements direct to a list."
   ]
  },
  {
   "cell_type": "code",
   "execution_count": null,
   "metadata": {
    "colab": {
     "base_uri": "https://localhost:8080/",
     "height": 182
    },
    "executionInfo": {
     "elapsed": 242,
     "status": "error",
     "timestamp": 1631049172571,
     "user": {
      "displayName": "Fay Huang",
      "photoUrl": "https://lh3.googleusercontent.com/a-/AOh14GgEHga5YZ6kdxfRMMqnx09wPooznOEf_dOVV7wt=s64",
      "userId": "00997626494185497686"
     },
     "user_tz": -120
    },
    "id": "yjNVnaYfGzwn",
    "outputId": "1ccebc22-dc89-4b3c-e0cd-8bf8b073beb0"
   },
   "outputs": [
    {
     "ename": "TypeError",
     "evalue": "ignored",
     "output_type": "error",
     "traceback": [
      "\u001b[0;31m---------------------------------------------------------------------------\u001b[0m",
      "\u001b[0;31mTypeError\u001b[0m                                 Traceback (most recent call last)",
      "\u001b[0;32m<ipython-input-20-546a4f667248>\u001b[0m in \u001b[0;36m<module>\u001b[0;34m()\u001b[0m\n\u001b[1;32m      1\u001b[0m \u001b[0mx\u001b[0m\u001b[0;34m=\u001b[0m\u001b[0mx\u001b[0m\u001b[0;34m.\u001b[0m\u001b[0mtolist\u001b[0m\u001b[0;34m(\u001b[0m\u001b[0;34m)\u001b[0m\u001b[0;34m\u001b[0m\u001b[0;34m\u001b[0m\u001b[0m\n\u001b[0;32m----> 2\u001b[0;31m \u001b[0mfx\u001b[0m \u001b[0;34m=\u001b[0m \u001b[0mnp\u001b[0m\u001b[0;34m.\u001b[0m\u001b[0mexp\u001b[0m\u001b[0;34m(\u001b[0m\u001b[0;34m-\u001b[0m\u001b[0mx\u001b[0m\u001b[0;34m)\u001b[0m\u001b[0;34m\u001b[0m\u001b[0;34m\u001b[0m\u001b[0m\n\u001b[0m",
      "\u001b[0;31mTypeError\u001b[0m: bad operand type for unary -: 'list'"
     ]
    }
   ],
   "source": [
    "#x=x.tolist()\n",
    "#fx = np.exp(-x)"
   ]
  },
  {
   "cell_type": "markdown",
   "metadata": {
    "id": "bqwhQhbiGnDl"
   },
   "source": [
    "* **If x is a list, how can you modify the second line above to calculate fx?**"
   ]
  },
  {
   "cell_type": "code",
   "execution_count": null,
   "metadata": {
    "colab": {
     "base_uri": "https://localhost:8080/"
    },
    "executionInfo": {
     "elapsed": 368,
     "status": "ok",
     "timestamp": 1631144353019,
     "user": {
      "displayName": "Fay Huang",
      "photoUrl": "https://lh3.googleusercontent.com/a-/AOh14GgEHga5YZ6kdxfRMMqnx09wPooznOEf_dOVV7wt=s64",
      "userId": "00997626494185497686"
     },
     "user_tz": -120
    },
    "id": "IqCTRDMrG6I3",
    "outputId": "0455278a-c182-4cf9-b525-d4b1ec28998e"
   },
   "outputs": [
    {
     "data": {
      "text/plain": [
       "[1.0,\n",
       " 0.8948393168143698,\n",
       " 0.8007374029168081,\n",
       " 0.7165313105737893,\n",
       " 0.6411803884299546,\n",
       " 0.5737534207374327,\n",
       " 0.513417119032592,\n",
       " 0.45942582403592663,\n",
       " 0.41111229050718745,\n",
       " 0.36787944117144233]"
      ]
     },
     "execution_count": 8,
     "metadata": {},
     "output_type": "execute_result"
    }
   ],
   "source": [
    "fx=[]\n",
    "for i in range(len(x)):\n",
    "    fx.append(np.exp(-x[i]))\n",
    "fx"
   ]
  },
  {
   "cell_type": "markdown",
   "metadata": {
    "id": "IJRrU93lGnKu"
   },
   "source": [
    "### Part 2. As already hinted at, the NumPy library comes with a plethora of useful features and functions. The code snippets below show some examples:  "
   ]
  },
  {
   "cell_type": "code",
   "execution_count": null,
   "metadata": {
    "colab": {
     "base_uri": "https://localhost:8080/"
    },
    "executionInfo": {
     "elapsed": 434,
     "status": "ok",
     "timestamp": 1631144363343,
     "user": {
      "displayName": "Fay Huang",
      "photoUrl": "https://lh3.googleusercontent.com/a-/AOh14GgEHga5YZ6kdxfRMMqnx09wPooznOEf_dOVV7wt=s64",
      "userId": "00997626494185497686"
     },
     "user_tz": -120
    },
    "id": "elqoKBRPHClh",
    "outputId": "ed459336-8060-43d4-a699-582238fd6863"
   },
   "outputs": [
    {
     "data": {
      "text/plain": [
       "array([0., 0., 0., 0., 0., 0., 0., 0., 0., 0., 0., 0., 0., 0., 0., 0., 0.,\n",
       "       0., 0., 0.])"
      ]
     },
     "execution_count": 9,
     "metadata": {},
     "output_type": "execute_result"
    }
   ],
   "source": [
    "np.zeros(20)"
   ]
  },
  {
   "cell_type": "code",
   "execution_count": null,
   "metadata": {
    "colab": {
     "base_uri": "https://localhost:8080/"
    },
    "executionInfo": {
     "elapsed": 303,
     "status": "ok",
     "timestamp": 1631144365716,
     "user": {
      "displayName": "Fay Huang",
      "photoUrl": "https://lh3.googleusercontent.com/a-/AOh14GgEHga5YZ6kdxfRMMqnx09wPooznOEf_dOVV7wt=s64",
      "userId": "00997626494185497686"
     },
     "user_tz": -120
    },
    "id": "5dhi2kAZHZJL",
    "outputId": "50084968-562a-49ed-90cb-1defaf3edd35"
   },
   "outputs": [
    {
     "data": {
      "text/plain": [
       "array([1., 1., 1., 1., 1., 1., 1., 1., 1., 1., 1., 1., 1., 1., 1., 1., 1.,\n",
       "       1., 1., 1.])"
      ]
     },
     "execution_count": 10,
     "metadata": {},
     "output_type": "execute_result"
    }
   ],
   "source": [
    "np.ones(20)"
   ]
  },
  {
   "cell_type": "code",
   "execution_count": null,
   "metadata": {
    "colab": {
     "base_uri": "https://localhost:8080/"
    },
    "executionInfo": {
     "elapsed": 354,
     "status": "ok",
     "timestamp": 1631144368968,
     "user": {
      "displayName": "Fay Huang",
      "photoUrl": "https://lh3.googleusercontent.com/a-/AOh14GgEHga5YZ6kdxfRMMqnx09wPooznOEf_dOVV7wt=s64",
      "userId": "00997626494185497686"
     },
     "user_tz": -120
    },
    "id": "ySG_UzTgHY_y",
    "outputId": "a9a88236-f023-4f1b-a5da-3e22525f8e4d"
   },
   "outputs": [
    {
     "data": {
      "text/plain": [
       "array([ 0.,  1.,  2.,  3.,  4.,  5.,  6.,  7.,  8.,  9., 10.])"
      ]
     },
     "execution_count": 11,
     "metadata": {},
     "output_type": "execute_result"
    }
   ],
   "source": [
    "np.linspace(0, 10, 11)"
   ]
  },
  {
   "cell_type": "code",
   "execution_count": null,
   "metadata": {
    "colab": {
     "base_uri": "https://localhost:8080/"
    },
    "executionInfo": {
     "elapsed": 299,
     "status": "ok",
     "timestamp": 1631144370824,
     "user": {
      "displayName": "Fay Huang",
      "photoUrl": "https://lh3.googleusercontent.com/a-/AOh14GgEHga5YZ6kdxfRMMqnx09wPooznOEf_dOVV7wt=s64",
      "userId": "00997626494185497686"
     },
     "user_tz": -120
    },
    "id": "FmeFKtuOHYwE",
    "outputId": "4ec1b7b7-ca1d-4a8f-b33a-e5923725c8e5"
   },
   "outputs": [
    {
     "data": {
      "text/plain": [
       "array([0.        , 0.90909091, 1.81818182, 2.72727273, 3.63636364,\n",
       "       4.54545455, 5.45454545, 6.36363636, 7.27272727, 8.18181818,\n",
       "       9.09090909])"
      ]
     },
     "execution_count": 12,
     "metadata": {},
     "output_type": "execute_result"
    }
   ],
   "source": [
    "np.linspace(0, 10, 11, endpoint=False)"
   ]
  },
  {
   "cell_type": "code",
   "execution_count": null,
   "metadata": {
    "colab": {
     "base_uri": "https://localhost:8080/"
    },
    "executionInfo": {
     "elapsed": 16,
     "status": "ok",
     "timestamp": 1631383079891,
     "user": {
      "displayName": "Matsuhiro Shi",
      "photoUrl": "https://lh3.googleusercontent.com/a/default-user=s64",
      "userId": "10142549915009995010"
     },
     "user_tz": -120
    },
    "id": "bfewwDtiAYTB",
    "outputId": "de0fd360-ca09-4ea8-918f-d29e57148e60"
   },
   "outputs": [
    {
     "data": {
      "text/plain": [
       "array([ 2,  4,  6,  8, 10])"
      ]
     },
     "execution_count": 1,
     "metadata": {},
     "output_type": "execute_result"
    }
   ],
   "source": [
    "vector = np.arange(5) + 1\n",
    "2*vector"
   ]
  },
  {
   "cell_type": "markdown",
   "metadata": {
    "id": "pmgkQqMRHPPc"
   },
   "source": [
    "* **Explain what each line of code does.**  \n",
    "    1. Return an array of 20 zeros with float64-type.  \n",
    "    2. Return an array of 20 ones with float64-type.  \n",
    "    3. Return evenly 11 numbers with float64-type between 0-10 including ending of 10.  \n",
    "    4. Return evenly 11 numbers with float64-type between 0-10 without ending of 10.  \n",
    "    5. np.arange(5) returns evenly 5 numbers with int-type bwtween 0-4 and finally it returns an array of 2,4,6,8,10(int).\n",
    "* **How would you produce the same output using native Python lists?**"
   ]
  },
  {
   "cell_type": "code",
   "execution_count": null,
   "metadata": {
    "colab": {
     "base_uri": "https://localhost:8080/"
    },
    "executionInfo": {
     "elapsed": 266,
     "status": "ok",
     "timestamp": 1631144375836,
     "user": {
      "displayName": "Fay Huang",
      "photoUrl": "https://lh3.googleusercontent.com/a-/AOh14GgEHga5YZ6kdxfRMMqnx09wPooznOEf_dOVV7wt=s64",
      "userId": "00997626494185497686"
     },
     "user_tz": -120
    },
    "id": "9sDF-39BHCaB",
    "outputId": "2ec33348-a82d-4f43-f9cd-6bbe8f45eafd"
   },
   "outputs": [
    {
     "data": {
      "text/plain": [
       "[0.0,\n",
       " 0.0,\n",
       " 0.0,\n",
       " 0.0,\n",
       " 0.0,\n",
       " 0.0,\n",
       " 0.0,\n",
       " 0.0,\n",
       " 0.0,\n",
       " 0.0,\n",
       " 0.0,\n",
       " 0.0,\n",
       " 0.0,\n",
       " 0.0,\n",
       " 0.0,\n",
       " 0.0,\n",
       " 0.0,\n",
       " 0.0,\n",
       " 0.0,\n",
       " 0.0]"
      ]
     },
     "execution_count": 13,
     "metadata": {},
     "output_type": "execute_result"
    }
   ],
   "source": [
    "def zerolistmaker(n):\n",
    "    listofzeros = [0.] * n\n",
    "    return listofzeros\n",
    "zerolistmaker(20)"
   ]
  },
  {
   "cell_type": "code",
   "execution_count": null,
   "metadata": {
    "colab": {
     "base_uri": "https://localhost:8080/"
    },
    "executionInfo": {
     "elapsed": 283,
     "status": "ok",
     "timestamp": 1631144379287,
     "user": {
      "displayName": "Fay Huang",
      "photoUrl": "https://lh3.googleusercontent.com/a-/AOh14GgEHga5YZ6kdxfRMMqnx09wPooznOEf_dOVV7wt=s64",
      "userId": "00997626494185497686"
     },
     "user_tz": -120
    },
    "id": "5U9KdKVzHxuW",
    "outputId": "af1c268c-1ba7-421b-86df-2bfe5de9fe13"
   },
   "outputs": [
    {
     "data": {
      "text/plain": [
       "[1.0,\n",
       " 1.0,\n",
       " 1.0,\n",
       " 1.0,\n",
       " 1.0,\n",
       " 1.0,\n",
       " 1.0,\n",
       " 1.0,\n",
       " 1.0,\n",
       " 1.0,\n",
       " 1.0,\n",
       " 1.0,\n",
       " 1.0,\n",
       " 1.0,\n",
       " 1.0,\n",
       " 1.0,\n",
       " 1.0,\n",
       " 1.0,\n",
       " 1.0,\n",
       " 1.0]"
      ]
     },
     "execution_count": 14,
     "metadata": {},
     "output_type": "execute_result"
    }
   ],
   "source": [
    "def onelistmaker(n):\n",
    "    listofones = [1.] * n\n",
    "    return listofones\n",
    "onelistmaker(20)"
   ]
  },
  {
   "cell_type": "code",
   "execution_count": null,
   "metadata": {
    "colab": {
     "base_uri": "https://localhost:8080/"
    },
    "executionInfo": {
     "elapsed": 263,
     "status": "ok",
     "timestamp": 1631144382485,
     "user": {
      "displayName": "Fay Huang",
      "photoUrl": "https://lh3.googleusercontent.com/a-/AOh14GgEHga5YZ6kdxfRMMqnx09wPooznOEf_dOVV7wt=s64",
      "userId": "00997626494185497686"
     },
     "user_tz": -120
    },
    "id": "PP4Bpjt5HxjO",
    "outputId": "4de829ee-08d7-472a-a459-ae70e5121463"
   },
   "outputs": [
    {
     "data": {
      "text/plain": [
       "[0.0, 1.0, 2.0, 3.0, 4.0, 5.0, 6.0, 7.0, 8.0, 9.0, 10.0]"
      ]
     },
     "execution_count": 15,
     "metadata": {},
     "output_type": "execute_result"
    }
   ],
   "source": [
    "def listmaker1(num):\n",
    "    list1=[]\n",
    "    for i in range(num):\n",
    "        list1.append(i*1.0)\n",
    "    return list1\n",
    "listmaker1(11)"
   ]
  },
  {
   "cell_type": "code",
   "execution_count": null,
   "metadata": {
    "colab": {
     "base_uri": "https://localhost:8080/"
    },
    "executionInfo": {
     "elapsed": 257,
     "status": "ok",
     "timestamp": 1631144385752,
     "user": {
      "displayName": "Fay Huang",
      "photoUrl": "https://lh3.googleusercontent.com/a-/AOh14GgEHga5YZ6kdxfRMMqnx09wPooznOEf_dOVV7wt=s64",
      "userId": "00997626494185497686"
     },
     "user_tz": -120
    },
    "id": "8TrPWv41HxRl",
    "outputId": "cbe3810c-6dc7-4e0d-8642-7296a87b10e7"
   },
   "outputs": [
    {
     "data": {
      "text/plain": [
       "[0.0,\n",
       " 0.9090909090909091,\n",
       " 1.8181818181818181,\n",
       " 2.727272727272727,\n",
       " 3.6363636363636362,\n",
       " 4.545454545454545,\n",
       " 5.454545454545454,\n",
       " 6.363636363636363,\n",
       " 7.2727272727272725,\n",
       " 8.181818181818182,\n",
       " 9.09090909090909]"
      ]
     },
     "execution_count": 16,
     "metadata": {},
     "output_type": "execute_result"
    }
   ],
   "source": [
    "def listmaker2(num):\n",
    "    list2=[]\n",
    "    temp=(num-1)/num\n",
    "    for i in range(num):\n",
    "        list2.append(i*temp)\n",
    "    return list2\n",
    "listmaker2(11)"
   ]
  },
  {
   "cell_type": "code",
   "execution_count": null,
   "metadata": {
    "colab": {
     "base_uri": "https://localhost:8080/"
    },
    "executionInfo": {
     "elapsed": 274,
     "status": "ok",
     "timestamp": 1631144389127,
     "user": {
      "displayName": "Fay Huang",
      "photoUrl": "https://lh3.googleusercontent.com/a-/AOh14GgEHga5YZ6kdxfRMMqnx09wPooznOEf_dOVV7wt=s64",
      "userId": "00997626494185497686"
     },
     "user_tz": -120
    },
    "id": "4cUBT9hlH542",
    "outputId": "ae72d338-b70a-471d-ac17-27c9f5bf0caf"
   },
   "outputs": [
    {
     "data": {
      "text/plain": [
       "[2, 4, 6, 8, 10]"
      ]
     },
     "execution_count": 17,
     "metadata": {},
     "output_type": "execute_result"
    }
   ],
   "source": [
    "def listmaker3(num):\n",
    "    list3=[]\n",
    "    temp=[]\n",
    "    for i in range(num):\n",
    "        temp.append(i)\n",
    "    list3=[(i+1)*2 for i in temp]\n",
    "    return list3\n",
    "listmaker3(5)"
   ]
  },
  {
   "cell_type": "markdown",
   "metadata": {
    "id": "3yW8d2d0GnSm"
   },
   "source": [
    "### Part 3. Frequently you will want to extract a subset of values from an array based on some kind of criterion. For example, you might want to count the number of non-zero numbers, or identify all values exceeding a certain threshold. With NumPy, suchs tasks are easily achieved using boolean masking, e.g.:"
   ]
  },
  {
   "cell_type": "code",
   "execution_count": null,
   "metadata": {
    "colab": {
     "base_uri": "https://localhost:8080/"
    },
    "executionInfo": {
     "elapsed": 273,
     "status": "ok",
     "timestamp": 1631144392636,
     "user": {
      "displayName": "Fay Huang",
      "photoUrl": "https://lh3.googleusercontent.com/a-/AOh14GgEHga5YZ6kdxfRMMqnx09wPooznOEf_dOVV7wt=s64",
      "userId": "00997626494185497686"
     },
     "user_tz": -120
    },
    "id": "9uK-N47xIJ4g",
    "outputId": "7a1ba4f9-db71-4afc-d35b-c899a9ccb510"
   },
   "outputs": [
    {
     "name": "stdout",
     "output_type": "stream",
     "text": [
      "There are 6 non-zero numbers in the array.\n"
     ]
    }
   ],
   "source": [
    "array_of_numbers = np.array([4, 8, 15, 16, 23, 42])\n",
    "nnz = np.count_nonzero(array_of_numbers)\n",
    "print(\"There are\", nnz,\"non-zero numbers in the array.\")\n",
    "is_even = (array_of_numbers % 2 == 0)\n",
    "is_greater_than_17 = (array_of_numbers > 17)\n",
    "is_even_and_greater_than_17 = is_even & is_greater_than_17"
   ]
  },
  {
   "cell_type": "markdown",
   "metadata": {
    "id": "00W8PlVBGnaC"
   },
   "source": [
    "However, the following code line does not execute:"
   ]
  },
  {
   "cell_type": "code",
   "execution_count": null,
   "metadata": {
    "colab": {
     "base_uri": "https://localhost:8080/",
     "height": 165
    },
    "executionInfo": {
     "elapsed": 239,
     "status": "error",
     "timestamp": 1631049569437,
     "user": {
      "displayName": "Fay Huang",
      "photoUrl": "https://lh3.googleusercontent.com/a-/AOh14GgEHga5YZ6kdxfRMMqnx09wPooznOEf_dOVV7wt=s64",
      "userId": "00997626494185497686"
     },
     "user_tz": -120
    },
    "id": "7GIp7E5TISsO",
    "outputId": "f7d138bb-fc92-4fa1-dd9c-796dd49044d0"
   },
   "outputs": [
    {
     "ename": "ValueError",
     "evalue": "ignored",
     "output_type": "error",
     "traceback": [
      "\u001b[0;31m---------------------------------------------------------------------------\u001b[0m",
      "\u001b[0;31mValueError\u001b[0m                                Traceback (most recent call last)",
      "\u001b[0;32m<ipython-input-33-30185a7c38a6>\u001b[0m in \u001b[0;36m<module>\u001b[0;34m()\u001b[0m\n\u001b[0;32m----> 1\u001b[0;31m \u001b[0mis_even_and_greater_than_17\u001b[0m \u001b[0;34m=\u001b[0m \u001b[0mis_even\u001b[0m \u001b[0;32mand\u001b[0m \u001b[0mis_greater_than_17\u001b[0m\u001b[0;34m\u001b[0m\u001b[0;34m\u001b[0m\u001b[0m\n\u001b[0m",
      "\u001b[0;31mValueError\u001b[0m: The truth value of an array with more than one element is ambiguous. Use a.any() or a.all()"
     ]
    }
   ],
   "source": [
    "# is_even_and_greater_than_17 = is_even and is_greater_than_17"
   ]
  },
  {
   "cell_type": "markdown",
   "metadata": {
    "id": "Q75kd8xfGnhw"
   },
   "source": [
    "* **Why not?**  \n",
    "  Both Numpy arrays have more than one element and its ambiguous to tell the boolean value of whole array. We also can use numpy.logical_and() instead to calculate each boolean value which has the same function as &.  \n",
    "    \n",
    "### Part 4. The function np.where can also be used to select elements from an array.  \n",
    "* **Explain the output of the following two lines of code:**  \n",
    "  The first one is to return an array of indices where the elements is greater than 17.  \n",
    "  The second one is to return an array which depends whether the elements is greater than 17. If true yield 1, otherwise yield 0."
   ]
  },
  {
   "cell_type": "code",
   "execution_count": null,
   "metadata": {
    "colab": {
     "base_uri": "https://localhost:8080/"
    },
    "executionInfo": {
     "elapsed": 248,
     "status": "ok",
     "timestamp": 1631144407483,
     "user": {
      "displayName": "Fay Huang",
      "photoUrl": "https://lh3.googleusercontent.com/a-/AOh14GgEHga5YZ6kdxfRMMqnx09wPooznOEf_dOVV7wt=s64",
      "userId": "00997626494185497686"
     },
     "user_tz": -120
    },
    "id": "2OdM2mHSIcjP",
    "outputId": "f77d58f6-f19b-4f0f-9de7-2a72a8c9d6d6"
   },
   "outputs": [
    {
     "data": {
      "text/plain": [
       "array([4, 5])"
      ]
     },
     "execution_count": 20,
     "metadata": {},
     "output_type": "execute_result"
    }
   ],
   "source": [
    "np.where(array_of_numbers > 17)[0]"
   ]
  },
  {
   "cell_type": "code",
   "execution_count": null,
   "metadata": {
    "colab": {
     "base_uri": "https://localhost:8080/"
    },
    "executionInfo": {
     "elapsed": 363,
     "status": "ok",
     "timestamp": 1631144411799,
     "user": {
      "displayName": "Fay Huang",
      "photoUrl": "https://lh3.googleusercontent.com/a-/AOh14GgEHga5YZ6kdxfRMMqnx09wPooznOEf_dOVV7wt=s64",
      "userId": "00997626494185497686"
     },
     "user_tz": -120
    },
    "id": "PnWIV6zRIfkY",
    "outputId": "0909399c-4907-496b-8fa9-4481586fab99"
   },
   "outputs": [
    {
     "data": {
      "text/plain": [
       "array([0, 0, 0, 0, 1, 1])"
      ]
     },
     "execution_count": 21,
     "metadata": {},
     "output_type": "execute_result"
    }
   ],
   "source": [
    "np.where(array_of_numbers > 17, 1, 0)"
   ]
  },
  {
   "cell_type": "markdown",
   "metadata": {
    "id": "kvBSxjfBIgCS"
   },
   "source": [
    "## Exercise 3, Part I: Finite Differences (FD) with Functions\n",
    "In scientific computing one often needs to calculate derivatives of functions. However, exact formulas may not be available, in which case numerical estimates are needed. To evaluate the correctness of our programmed numerical methods, it is still wise to choose test functions where the derivative is known beforehand.  \n",
    "\n",
    "In this exercise, we consider a function that is relevant for describing wave phenomenona:  \n",
    "  $$f(x)={\\rm sin}(bx)\\cdot e^{-ax^2}\\qquad\\qquad(1)$$    \n",
    "One way to implement the function in Python is:"
   ]
  },
  {
   "cell_type": "code",
   "execution_count": null,
   "metadata": {
    "id": "NYf0ur51IpjN"
   },
   "outputs": [],
   "source": [
    "#def f(x, a=0.1, b=10):\n",
    "#    return np.sin(b*x)*np.exp(-a*x*x)"
   ]
  },
  {
   "cell_type": "markdown",
   "metadata": {
    "id": "zAV_qSA-I9AA"
   },
   "source": [
    "We have chosen to define a and b as *default arguments*, which allows us to evaluate the function at x = 1 by simply typing f(1); this is equivalent to the command f(1, 0.1, 10). If you want to change the b parameter, you can do, e.g., f(1, b=2). Note also that the function works both when x is a single number and when it is a Numpy array. This is because we use the Numpy versions of the sine (np.sin) and exponential (np.exp) functions.\n",
    "We will exploit this property of Python several times during this project.  \n",
    "    ![jupyter](https://i.ibb.co/TKL53B6/wave.png)  \n",
    "$$\\,\\rm {\\color{grey}{Figure\\,2:\\,A\\,plot\\,of\\,{\\it f(x)}.}}$$  \n",
    "### Part 1. It is always a good idea to start by visualizing the function in a plot.\n",
    "* **Make a Python function that plots f(x) from equation (1) over an arbitrary closed interval.**  "
   ]
  },
  {
   "cell_type": "code",
   "execution_count": null,
   "metadata": {
    "id": "i22-Ej5nI75v"
   },
   "outputs": [],
   "source": [
    "def fplot(x, a=0.1, b=10):\n",
    "    out = np.sin(b*x)*np.exp(-a*x*x)\n",
    "    return (out, plt.figure(num=0,dpi=120), plt.plot(x, out, label=\"a gaussian wave packet\"),plt.legend(),plt.xlabel(\"x\"),plt.ylabel(\"f(x)\"))\n"
   ]
  },
  {
   "cell_type": "markdown",
   "metadata": {
    "id": "IT5QdHWdc-k_"
   },
   "source": [
    "* **Use the function to plot f(x) in the range [−10, 10]. Try to make your figure similar to the one shown in figure 2**"
   ]
  },
  {
   "cell_type": "code",
   "execution_count": null,
   "metadata": {
    "colab": {
     "base_uri": "https://localhost:8080/",
     "height": 576
    },
    "executionInfo": {
     "elapsed": 914,
     "status": "ok",
     "timestamp": 1631215949725,
     "user": {
      "displayName": "Fay Huang",
      "photoUrl": "https://lh3.googleusercontent.com/a-/AOh14GgEHga5YZ6kdxfRMMqnx09wPooznOEf_dOVV7wt=s64",
      "userId": "00997626494185497686"
     },
     "user_tz": -120
    },
    "id": "k7-DAhBsIsrk",
    "outputId": "ff7cd818-03af-4dd6-ec64-c096c4ff850f"
   },
   "outputs": [
    {
     "data": {
      "text/plain": [
       "(array([2.29889645e-05, 2.73232850e-05, 3.15441145e-05, ...,\n",
       "        1.50217375e-06, 9.01113353e-07, 3.16629474e-07]),\n",
       " <Figure size 720x480 with 1 Axes>,\n",
       " [<matplotlib.lines.Line2D at 0x7fcfcfafa990>],\n",
       " <matplotlib.legend.Legend at 0x7fcfcfb66090>,\n",
       " Text(0.5, 0, 'x'),\n",
       " Text(0, 0.5, 'f(x)'))"
      ]
     },
     "execution_count": 6,
     "metadata": {},
     "output_type": "execute_result"
    },
    {
     "data": {
      "image/png": "[encoded data removed]",
      "text/plain": [
       "<Figure size 720x480 with 1 Axes>"
      ]
     },
     "metadata": {
      "needs_background": "light"
     },
     "output_type": "display_data"
    }
   ],
   "source": [
    "fplot(x=np.arange(-10,11,0.01))"
   ]
  },
  {
   "cell_type": "markdown",
   "metadata": {
    "id": "HiRDtcWAiSrW"
   },
   "source": [
    "### Part 2. The analytical derivative of f(x) is  \n",
    "  $$f'(x)=b{\\rm cos}(bx)\\cdot e^{-ax^2}-2ax{\\rm sin}(bx)\\cdot e^{-ax^2}\\qquad\\qquad(1)$$    \n",
    "* **Write a Python function that calculates the derivative defined in equation\n",
    "(2).**"
   ]
  },
  {
   "cell_type": "code",
   "execution_count": null,
   "metadata": {
    "colab": {
     "base_uri": "https://localhost:8080/"
    },
    "executionInfo": {
     "elapsed": 258,
     "status": "ok",
     "timestamp": 1631215957974,
     "user": {
      "displayName": "Fay Huang",
      "photoUrl": "https://lh3.googleusercontent.com/a-/AOh14GgEHga5YZ6kdxfRMMqnx09wPooznOEf_dOVV7wt=s64",
      "userId": "00997626494185497686"
     },
     "user_tz": -120
    },
    "id": "jv-HS7XbmDb_",
    "outputId": "f6968d5a-9964-4930-8377-bc0f85a523ed"
   },
   "outputs": [
    {
     "data": {
      "text/plain": [
       "-7.493783027703379"
      ]
     },
     "execution_count": 7,
     "metadata": {},
     "output_type": "execute_result"
    }
   ],
   "source": [
    "def f_derivate1(x, a=0.1, b=10):\n",
    "    out2=b*np.cos(b*x)*np.exp(-a*x**2) - 2*a*x*np.sin(b*x)*np.exp(-a*x**2)\n",
    "    return out2\n",
    "f_derivate1(x=1)"
   ]
  },
  {
   "cell_type": "markdown",
   "metadata": {
    "id": "1kUiBP4qJEbw"
   },
   "source": [
    "### Part 3.  \n",
    "Next, we are going to write a Python function that calculates the numerical derivative of an *arbitrary* single-variable function f at a point x using finite differences. If f only depends on x, this is extremely easy: we can simply take f, x, and h (step-size) as input arguments to our derivative function. Assuming it is called calc_derivative, it could work something like this:"
   ]
  },
  {
   "cell_type": "code",
   "execution_count": null,
   "metadata": {
    "id": "WF9d16CAJX23"
   },
   "outputs": [],
   "source": [
    "#df_x = calc_derivative(f, x=1.0, h=1.0e-3)"
   ]
  },
  {
   "cell_type": "markdown",
   "metadata": {
    "id": "bDtglPMzZHVF"
   },
   "source": [
    "However, the function in equation (1) depends on two additional input\n",
    "parameters, a and b. We can of course add these two as extra arguments to the\n",
    "derivative function, but then we would lose generality, for not every function has\n",
    "the same two parameters. A way out of this dilemma could be to create a new\n",
    "function each time you choose values for a and b, e.g:"
   ]
  },
  {
   "cell_type": "code",
   "execution_count": null,
   "metadata": {
    "id": "dPlStPOgZIIH"
   },
   "outputs": [],
   "source": [
    "#def g(x):\n",
    "# \"\"\"\n",
    "# The function g(x) = sin(10x) * exp(-0.1x^2).\n",
    "# \"\"\"\n",
    "# return f(x, 0.1, 10.0)"
   ]
  },
  {
   "cell_type": "markdown",
   "metadata": {
    "id": "f-1i9aYoZInG"
   },
   "source": [
    "Another possibility is to use the the args mechanism, which lets you pass\n",
    "around a variable number of parameters to a function. An example of how this\n",
    "works is:"
   ]
  },
  {
   "cell_type": "code",
   "execution_count": null,
   "metadata": {
    "id": "Jkh7olMmZKMg"
   },
   "outputs": [],
   "source": [
    "#def calc_derivative(f, x, h, *args):\n",
    "# v return (f(x, *args) - f(x-h, *args))/h"
   ]
  },
  {
   "cell_type": "markdown",
   "metadata": {
    "id": "kjDZa-PEZJlg"
   },
   "source": [
    "* **Write a Python function that calculates the derivative of an arbitrary\n",
    "function using the *forward difference* method**"
   ]
  },
  {
   "cell_type": "code",
   "execution_count": null,
   "metadata": {
    "id": "Gkkkb0HaJZdJ"
   },
   "outputs": [],
   "source": [
    "def f(x):\n",
    "    return np.sin(10*x) * np.exp(-0.1*x**2)\n",
    "\n",
    "def df(f,x,h):\n",
    "    return (f(x+h) - f(x))/h    "
   ]
  },
  {
   "cell_type": "markdown",
   "metadata": {
    "id": "KUGQL1RQdDk-"
   },
   "source": [
    "* **Apply your function to the particular case of equation (1) and x = 1. Use\n",
    "a suitable value of h, e.g. h = 1e − 2, and check that your estimate agrees\n",
    "reasonably well with the *analytical solution*.**"
   ]
  },
  {
   "cell_type": "code",
   "execution_count": null,
   "metadata": {
    "colab": {
     "base_uri": "https://localhost:8080/"
    },
    "executionInfo": {
     "elapsed": 321,
     "status": "ok",
     "timestamp": 1631215968338,
     "user": {
      "displayName": "Fay Huang",
      "photoUrl": "https://lh3.googleusercontent.com/a-/AOh14GgEHga5YZ6kdxfRMMqnx09wPooznOEf_dOVV7wt=s64",
      "userId": "00997626494185497686"
     },
     "user_tz": -120
    },
    "id": "bThIERfmdHFG",
    "outputId": "37d4b611-0ea4-42e2-b197-4f3e4c0bdb7d"
   },
   "outputs": [
    {
     "data": {
      "text/plain": [
       "-7.220096595246589"
      ]
     },
     "execution_count": 9,
     "metadata": {},
     "output_type": "execute_result"
    }
   ],
   "source": [
    "df(f,x=1,h=10**-2)"
   ]
  },
  {
   "cell_type": "markdown",
   "metadata": {
    "id": "ZF65J6AwpBBT"
   },
   "source": [
    "### Part 4.\n",
    "* **Write another Python function that calculates $f'(x)$ with the *central difference* method**"
   ]
  },
  {
   "cell_type": "code",
   "execution_count": null,
   "metadata": {
    "colab": {
     "base_uri": "https://localhost:8080/"
    },
    "executionInfo": {
     "elapsed": 357,
     "status": "ok",
     "timestamp": 1631215972848,
     "user": {
      "displayName": "Fay Huang",
      "photoUrl": "https://lh3.googleusercontent.com/a-/AOh14GgEHga5YZ6kdxfRMMqnx09wPooznOEf_dOVV7wt=s64",
      "userId": "00997626494185497686"
     },
     "user_tz": -120
    },
    "id": "r_mNcCElo08-",
    "outputId": "1d61888a-fede-4728-d465-c864202bb1b3"
   },
   "outputs": [
    {
     "data": {
      "text/plain": [
       "-7.48156774953081"
      ]
     },
     "execution_count": 10,
     "metadata": {},
     "output_type": "execute_result"
    }
   ],
   "source": [
    "def dfc(f,x,h):\n",
    "    return (f(x+h)-f(x-h))/(2*h)\n",
    "dfc(f,x=1,h=10**-2)"
   ]
  },
  {
   "cell_type": "markdown",
   "metadata": {
    "id": "8f3HQ6fUpAvl"
   },
   "source": [
    "### Part 5. \n",
    "We want to quantify the error in our numerical estimates. To this end, we start by choosing a point at which to evaluate the numerical derivative of the function in equation (1), e.g., x = 1. Next:"
   ]
  },
  {
   "cell_type": "markdown",
   "metadata": {
    "id": "FP5rmpbHpDPD"
   },
   "source": [
    "* **Make a figure in which you plot the absolute error versus step size, h.**  \n",
    "* **Vary the step size logarithmically between $10^{−16}$ and 1.**  \n",
    "* **The figure should include one error curve for the forward difference method,\n",
    "and another for the central difference methods.**"
   ]
  },
  {
   "cell_type": "code",
   "execution_count": null,
   "metadata": {
    "colab": {
     "base_uri": "https://localhost:8080/",
     "height": 286
    },
    "executionInfo": {
     "elapsed": 828,
     "status": "ok",
     "timestamp": 1631216599438,
     "user": {
      "displayName": "Fay Huang",
      "photoUrl": "https://lh3.googleusercontent.com/a-/AOh14GgEHga5YZ6kdxfRMMqnx09wPooznOEf_dOVV7wt=s64",
      "userId": "00997626494185497686"
     },
     "user_tz": -120
    },
    "id": "Nx1z5ZpUn9F2",
    "outputId": "85fdea11-1e37-44f1-a3a9-cfb33a80a570"
   },
   "outputs": [
    {
     "data": {
      "text/plain": [
       "<matplotlib.legend.Legend at 0x7fcfce9fb610>"
      ]
     },
     "execution_count": 28,
     "metadata": {},
     "output_type": "execute_result"
    },
    {
     "data": {
      "image/png": "[encoded data removed]",
      "text/plain": [
       "<Figure size 432x288 with 1 Axes>"
      ]
     },
     "metadata": {
      "needs_background": "light"
     },
     "output_type": "display_data"
    }
   ],
   "source": [
    "h1=np.logspace(-16,0.1,20)\n",
    "error=np.abs(f_derivate1(x=1)-df(f,x=1,h=h1))\n",
    "error2=np.abs(f_derivate1(x=1)-dfc(f,x=1,h=h1))\n",
    "plt.plot(h1,error,'-*',label='Foreward difference')\n",
    "plt.plot(h1,error2,'-^',label='Central difference')\n",
    "plt.grid()\n",
    "plt.xscale('log')\n",
    "plt.yscale('log')\n",
    "plt.legend()"
   ]
  },
  {
   "cell_type": "markdown",
   "metadata": {
    "id": "3w_mJDwlzCUc"
   },
   "source": [
    "### Part 6.\n",
    "* **Comment on what you observe in the figure you made. When is the\n",
    "numerical error smallest, and why? Is it what you expect from a theoretical\n",
    "analysis using Taylor’s formula?**  \n",
    "The errors of the center difference method are smaller than ones by the forward difference method. We got the smallest errors for h is closed to 1.4e-6. Yes, we just need continue to take higher order derivatives."
   ]
  },
  {
   "cell_type": "markdown",
   "metadata": {
    "id": "5UkNwvMgzTXT"
   },
   "source": [
    "## Exercise 3, Part II: FD with Classes  \n",
    "Implementing numerical algorithms with free functions, as we did in the previous exercise, is perfectly fine, and you can complete MOD510 by only coding in this way. However, experience has taught us that it is easy to introduce unnecessary errors when using this approach. In many cases you are better off by also using classes, and maybe object-oriented design. In this exercise, you will get some practice in coding with classes. This knowledge will come in handy in later projects, and in any case it is a good tool to have in your programming toolkit.  \n",
    "\n",
    "Previously, we worked with a function having two input parameters, a and b. Implementing numerical algorithms using free functions was then simple. However, in a more complicated situation there could be dozens, or even hundreds, of parameters to keep track of. Most of these parameters might have fixed values, but frequently you will want to re-run a model with slightly different parameters than before. If you are not using classes, it is very easy to use the wrong parameters. This is especially true when working in a Jupyter notebook, since you might run code blocks in any order; if you forget to excute a cell that is responsible for updating one of your variables, your subsqeuent calculations will be wrong!  \n",
    "\n",
    "### A Crash Course on Classes  \n",
    "To get started, there are really only a couple of things you need to know. First, all of your classes should include a special function called __init__, in which you declare the variables (attributes) you wish an instance / object of the class to keep track of.  \n",
    "\n",
    "Second, inside the class all class attributes should be prefixed with self, followed by a dot.  \n",
    "\n",
    "Third, functions defined inside a class should have self as the first function argument. All of this is best understood via an example:"
   ]
  },
  {
   "cell_type": "code",
   "execution_count": null,
   "metadata": {
    "id": "7bjLMy6k3nsL"
   },
   "outputs": [],
   "source": [
    "#class WavePacket:\n",
    "#  \"\"\"\n",
    "#  A class representation of a wave packet-function.\n",
    "#  \"\"\"\n",
    "#  def __init__(self, a, b):\n",
    "#    self.a = a\n",
    "#    self.b = b\n",
    "#  def f(self, x):\n",
    "#    return np.sin(self.b*x)*np.exp(-self.a*x*x)\n",
    "#  def plot(self, min=-10, max=10, dx=0.01):\n",
    "#    \"\"\"\n",
    "#    A simple plotting routine for plotting f(x) in some range.\n",
    "#    \"\"\"\n",
    "#    x = np.arange(min, max, dx)\n",
    "#    y = self.f(x)\n",
    "#    fig = plt.figure()\n",
    "#    plt.plot(x, y)\n",
    "#    plt.grid()"
   ]
  },
  {
   "cell_type": "markdown",
   "metadata": {
    "id": "8dcoCA5JDy5b"
   },
   "source": [
    "Besides the initialization method and a function that calculates $f(x)$ from equation, the class includes a simple plotting routine. A major difference from before is the following: when our function $f(x)$ is defined inside a class, we do not have to pass around a and b as arguments to the function f. Instead, we simply access a and b from inside the class itself (using the self-prefix).  \n",
    "Below is an example of how to use the class:"
   ]
  },
  {
   "cell_type": "code",
   "execution_count": null,
   "metadata": {
    "id": "NrBUNjNTDxGK"
   },
   "outputs": [],
   "source": [
    "# Create two WavePacket objects, having their own parameter values\n",
    "#WP1 = WavePacket(0.1, 2) # a=0.1, b=2\n",
    "#WP2 = WavePacket(0.1, 10) # a = 0.1, b=10\n",
    "# Evaluate the two functions at a specific point\n",
    "#x = 1\n",
    "#print(WP1.f(x))\n",
    "#print(WP2.f(x))\n",
    "# Plot the two functions\n",
    "#WP1.plot()\n",
    "#WP2.plot()"
   ]
  },
  {
   "cell_type": "markdown",
   "metadata": {
    "id": "fHbooXYNEOvX"
   },
   "source": [
    "Although we had to write slightly more code, we hope you appreciate how easy this makes running parallel simulations with different parameters!  \n",
    "### Part 1.  \n",
    "* **Add another function (instance method) to the class above called df_fe.\n",
    "This function should return the forward difference approximation to the\n",
    "derivative of the function f at a point x given as input. Include the step-size\n",
    "h as input argument (i.e., from the outside the class).**  \n",
    "* **Add a second function, df_cd, which calculates the central difference\n",
    "approximation.**  \n",
    "### Part 2.  \n",
    "* **Make a third function inside the class that plots the absolute error versus\n",
    "step size for the two finite difference approximations. Use step sizes in the\n",
    "range from $10^{−16}$ to 1 (with logarithmic spacing).**"
   ]
  },
  {
   "cell_type": "code",
   "execution_count": 3,
   "metadata": {
    "id": "FkPSWWV4tZLw"
   },
   "outputs": [],
   "source": [
    "class WavePacket:\n",
    "\n",
    "    def __init__(self,a,b):\n",
    "        self.a = a\n",
    "        self.b = b\n",
    "        \n",
    "    def f(self, x):\n",
    "        return np.sin(self.b*x)*np.exp(-self.a*x*x)\n",
    "    \n",
    "    def f_derivate1(self,x):\n",
    "        return self.b*np.cos(self.b*x)*np.exp(-self.a*x**2) - 2*self.a*x*np.sin(self.b*x)*np.exp(-self.a*x**2)\n",
    "    \n",
    "    \n",
    "    def df(self,x,h):\n",
    "        return (self.f(x+h) -self.f(x))/h\n",
    "\n",
    "    def dfc(self,x,h):\n",
    "        return (self.f(x+h)-self.f(x-h))/(2*h)\n",
    "   \n",
    "    def plot(self):\n",
    "        \n",
    "        x=1\n",
    "        h=np.logspace(-16,0)\n",
    "        error = np.abs(self.df(x,h)-self.f_derivate1(x))\n",
    "        error2 =np.abs(self.dfc(x,h)-self.f_derivate1(x))\n",
    "        fig = plt.figure()\n",
    "        plt.loglog(h,error,'-*',label='foreward difference')\n",
    "        plt.loglog(h,error2,'-^',label='central difference')\n",
    "        plt.grid()\n",
    "        plt.legend()\n",
    "        \n",
    "WP1 = WavePacket(0.1,10)\n",
    "WP2 = WavePacket(0.1,10)"
   ]
  },
  {
   "cell_type": "code",
   "execution_count": 4,
   "metadata": {
    "colab": {
     "base_uri": "https://localhost:8080/"
    },
    "executionInfo": {
     "elapsed": 264,
     "status": "ok",
     "timestamp": 1631216735045,
     "user": {
      "displayName": "Fay Huang",
      "photoUrl": "https://lh3.googleusercontent.com/a-/AOh14GgEHga5YZ6kdxfRMMqnx09wPooznOEf_dOVV7wt=s64",
      "userId": "00997626494185497686"
     },
     "user_tz": -120
    },
    "id": "zTboDnHWtXys",
    "outputId": "9486db2d-dd82-47cb-9697-30fe8f89fd6d"
   },
   "outputs": [
    {
     "data": {
      "text/plain": [
       "-7.220096595246589"
      ]
     },
     "execution_count": 4,
     "metadata": {},
     "output_type": "execute_result"
    }
   ],
   "source": [
    "WP1.df(1,h=1e-2)"
   ]
  },
  {
   "cell_type": "code",
   "execution_count": 5,
   "metadata": {
    "colab": {
     "base_uri": "https://localhost:8080/"
    },
    "executionInfo": {
     "elapsed": 272,
     "status": "ok",
     "timestamp": 1631216743464,
     "user": {
      "displayName": "Fay Huang",
      "photoUrl": "https://lh3.googleusercontent.com/a-/AOh14GgEHga5YZ6kdxfRMMqnx09wPooznOEf_dOVV7wt=s64",
      "userId": "00997626494185497686"
     },
     "user_tz": -120
    },
    "id": "ATkOsIQJfe_b",
    "outputId": "426a729a-c4ec-4355-bf0c-b56f73ce226f"
   },
   "outputs": [
    {
     "data": {
      "text/plain": [
       "-7.48156774953081"
      ]
     },
     "execution_count": 5,
     "metadata": {},
     "output_type": "execute_result"
    }
   ],
   "source": [
    "WP2.dfc(1,h=1e-2)"
   ]
  },
  {
   "cell_type": "code",
   "execution_count": 6,
   "metadata": {
    "colab": {
     "base_uri": "https://localhost:8080/",
     "height": 269
    },
    "executionInfo": {
     "elapsed": 764,
     "status": "ok",
     "timestamp": 1631216775757,
     "user": {
      "displayName": "Fay Huang",
      "photoUrl": "https://lh3.googleusercontent.com/a-/AOh14GgEHga5YZ6kdxfRMMqnx09wPooznOEf_dOVV7wt=s64",
      "userId": "00997626494185497686"
     },
     "user_tz": -120
    },
    "id": "I4Wbd22Og9Yl",
    "outputId": "0ce69664-0230-4184-ad08-49b9760c7e1f"
   },
   "outputs": [
    {
     "data": {
      "image/png": "[encoded data removed]",
      "text/plain": [
       "<Figure size 432x288 with 1 Axes>"
      ]
     },
     "metadata": {
      "needs_background": "light"
     },
     "output_type": "display_data"
    }
   ],
   "source": [
    "WP1.plot()"
   ]
  },
  {
   "cell_type": "markdown",
   "metadata": {
    "id": "tcZdUHmQJaFA"
   },
   "source": [
    "## Exercise 4: A song of ice and fire?  \n",
    "There is currently a great deal of concern about global warming. Some critical issues are whether we are more likely to observe extreme local temperatures, increased frequencies of natural disasters like forest fires and droughts, and if there are \"tipping points\" in the climate system that are, at least on the human timescale, irreversible. One particular question to ask is: How much ice is likely to melt? And, what would be the consequence of ice melting for sea level rise (SLR)?  \n",
    "\n",
    "Since most of the ice on Planet Earth is located in Antarctica, substantial effort has been spent in mapping the ice and the bedrock of this continent. Most of the data is freely available, and we can use them to investigate different scenarios.  \n",
    "\n",
    "### Theory\n",
    "\n",
    "To calculate SLR, we need to know not only how thick the ice is, but also its elevation above the bedrock. In this exercise you will see how we can use Python, together with available data and libraries, to do quite advanced calculations.  \n",
    "\n",
    "Melting of an iceberg. Let us start by deriving a result that you may have seen before. We shall consider an iceberg that is floating and which is not impacted by any other forces than gravity. The total volume of ice in figure 2 is $V_f+V{^{disp}_{H2O}}$, where $V_f$ is the ice volume floating above the sea, and $V{^{disp}_{H2O}} is the volume of displaced sea water (submerged ice). According to Newton’s 2nd law, the total weight of ice is therefore  \n",
    "\n",
    "$$W = m_{ice}g = \\rho_{ice}V_{ice}g =\\rho_{ice}(V_f  + V{^{disp}_{H2O}})g\\qquad\\qquad(3)$$  \n",
    "where $\\rho_{ice}$  is the density (mass divided by volume), and $g = 9.81m/s^2$ the gravitational constant. On the other hand, the Archimedean principle tells us that buoyancy is proportional to *the mass of displaced water*, hence another expression for the same weight is  \n",
    "\n",
    "$$W = \\rho_{w}V_{ice}g \\qquad\\qquad(4)$$  \n",
    "where $\\rho_{w}$ is the density of the surrounding sea-water. As the ice melts, it must be turned into an equal mass of liquid ice-water:  \n",
    "\n",
    "$$m_{ice} = m_{ice water}$$  \n",
    "$$\\rho_{ice}V_{ice} =\\rho_{ice} = \\rho_{ice\\,water}V_{ice\\,water} \\qquad\\qquad(5)$$  \n",
    "By combining the above equations, we therefore get:  \n",
    "\n",
    "$$V{^{disp}_{H2O}}=\\frac{\\rho_{ice\\,water}}{\\rho_{w}}V_{ice\\,water} \\qquad\\qquad(6)$$  \n",
    "Therefore, the net contribution to SLR is captured by the volume change  \n",
    "\n",
    "$$\\Delta V\\equiv V_{ice\\,water}-V{^{disp}_{H2O}}=(1-\\frac{\\rho_{ice\\,water}}{\\rho_{w}})V_{ice\\,water} \\qquad\\qquad(7)$$  \n",
    "If the melted ice has the same density as seawater, it follows that there is *no increase in sea level*. On the other hand, if the density is lower than that of seawater, there is a contribution. Typically, the melting of ice dilutes the salinity of the ocean, which leads to a small increase in sea level.  \n",
    "    ![jupyter](https://i.ibb.co/rvhn9Jt/3.png)  \n",
    "$$\\,\\rm {\\color{grey}{Figure\\,3:\\,A\\,schematic\\,illustration\\,of\\,an\\,iceberg.\\,V{^{disp}_{H2O}}\\,is\\,the\\,volume\\,of\\,water\\,displaced\\,by\\,the\\,iceberg.}}$$  \n",
    "\n",
    "**Freeboard**. The vast majority of ice in Antarctica is not freely floating. In addition to the salinity effect described above, the main contribution to SLR is from ice located above hydrostatic equilibrium. It is useful to introduce the concept of the freeboard, which is the height above seawater of a floating iceberg. Again referring to figure 3, the freeboard height, $h$, is  \n",
    "\n",
    "$$h=(\\frac{\\rho_{w}}{\\rho_{ice}}-1)h_{w} \\qquad\\qquad(8)$$  \n",
    "For the bedmap2 dataset, the freeboard level can be computed from (figure 4)  \n",
    "$$h=-({\\rm surface}-{\\rm thickness})\\cdot(\\frac{\\rho_{w}}{\\rho_{ice}}-1) \\qquad\\qquad(9)$$  \n",
    "Note that this formula assumes that the bedrock is below sea-level.  \n",
    "\n",
    "### Part 1.  \n",
    "The code below is taken from the rockound library documentation:  \n",
    "* **Run the code and reproduce figure 4.**"
   ]
  },
  {
   "cell_type": "code",
   "execution_count": null,
   "metadata": {
    "colab": {
     "base_uri": "https://localhost:8080/",
     "height": 513
    },
    "executionInfo": {
     "elapsed": 23648,
     "status": "ok",
     "timestamp": 1631144566103,
     "user": {
      "displayName": "Fay Huang",
      "photoUrl": "https://lh3.googleusercontent.com/a-/AOh14GgEHga5YZ6kdxfRMMqnx09wPooznOEf_dOVV7wt=s64",
      "userId": "00997626494185497686"
     },
     "user_tz": -120
    },
    "id": "Ix7FfvwJVCLL",
    "outputId": "f1a7beac-26cc-4c72-84b0-c2804c203b55"
   },
   "outputs": [
    {
     "data": {
      "image/png": "[encoded data removed]",
      "text/plain": [
       "<Figure size 576x504 with 2 Axes>"
      ]
     },
     "metadata": {
      "needs_background": "light"
     },
     "output_type": "display_data"
    }
   ],
   "source": [
    "bedmap = rh.fetch_bedmap2(datasets=[\"thickness\",\"surface\",\"bed\"])\n",
    "plt.figure(figsize=(8, 7))\n",
    "ax = plt.subplot(111)\n",
    "bedmap.surface.plot.pcolormesh(ax=ax,cmap=cmocean.cm.ice,\n",
    "cbar_kwargs=dict(pad=0.01, aspect=30))\n",
    "plt.title(\"Bedmap2 Antarctica\")\n",
    "plt.tight_layout()\n",
    "plt.show()"
   ]
  },
  {
   "cell_type": "markdown",
   "metadata": {
    "id": "6Pitfk7yKSNX"
   },
   "source": [
    "$$\\,\\rm {\\color{grey}{Figure\\,4:\\,Visualization\\,of\\,the\\,ice\\,surface\\,height\\,in\\,Antarctica.}}$$  \n",
    "### Part 2.  \n",
    "The Thwaites glacier, named after Fredrik T. Thwaites, is of particular interest. Also referred to as the Doomsday glacier, it is a fast moving glacier\n",
    "(up to 4 km/year) at the coast of Antarctica, roughly 120 km wide. It is called\n",
    "the Doomsday glacier because it is believed that it may trigger a collapse of\n",
    "west Antarctica. We can use the bedmap2 dataset to view a cross section of the\n",
    "glacier, $y = −0.5\\cdot106$ and $x\\in[−1.6\\cdot10^6,−1.35\\cdot10^6]$ and plot the values in the bed1d data array:  "
   ]
  },
  {
   "cell_type": "code",
   "execution_count": null,
   "metadata": {
    "colab": {
     "base_uri": "https://localhost:8080/",
     "height": 312
    },
    "executionInfo": {
     "elapsed": 664,
     "status": "ok",
     "timestamp": 1631144566739,
     "user": {
      "displayName": "Fay Huang",
      "photoUrl": "https://lh3.googleusercontent.com/a-/AOh14GgEHga5YZ6kdxfRMMqnx09wPooznOEf_dOVV7wt=s64",
      "userId": "00997626494185497686"
     },
     "user_tz": -120
    },
    "id": "pvKQZOygNMaA",
    "outputId": "6d871229-5809-48d0-9a03-205686d2a142"
   },
   "outputs": [
    {
     "data": {
      "text/plain": [
       "[<matplotlib.lines.Line2D at 0x7f3a3b94fa90>]"
      ]
     },
     "execution_count": 38,
     "metadata": {},
     "output_type": "execute_result"
    },
    {
     "data": {
      "image/png": "[encoded data removed]",
      "text/plain": [
       "<Figure size 432x288 with 1 Axes>"
      ]
     },
     "metadata": {
      "needs_background": "light"
     },
     "output_type": "display_data"
    }
   ],
   "source": [
    "bed1d = bedmap.sel(y=-0.5e6, x=slice(-1.6e6,-1.35e6))\n",
    "# Add a second x-coordinate to make prettier plots\n",
    "# (shift x-axis to start at zero, and convert from m to km)\n",
    "bed1d = bed1d.assign_coords({\"x2\":((bed1d.x+1.6e6)/1e3)})\n",
    "bed1d.surface.plot(x=\"x2\")"
   ]
  },
  {
   "cell_type": "markdown",
   "metadata": {
    "id": "7sdvpse7gflo"
   },
   "source": [
    "* **Use equation (9) to calculate the freeboard level.**"
   ]
  },
  {
   "cell_type": "code",
   "execution_count": null,
   "metadata": {
    "colab": {
     "base_uri": "https://localhost:8080/"
    },
    "executionInfo": {
     "elapsed": 463,
     "status": "ok",
     "timestamp": 1631145174764,
     "user": {
      "displayName": "Fay Huang",
      "photoUrl": "https://lh3.googleusercontent.com/a-/AOh14GgEHga5YZ6kdxfRMMqnx09wPooznOEf_dOVV7wt=s64",
      "userId": "00997626494185497686"
     },
     "user_tz": -120
    },
    "id": "Czq1Rau5QCuS",
    "outputId": "6ab5fcf3-cfce-4a12-e803-d5ffc327a2a4"
   },
   "outputs": [
    {
     "data": {
      "text/plain": [
       "array([         nan,          nan,          nan,          nan,\n",
       "                nan,          nan,          nan,          nan,\n",
       "                nan,          nan,          nan,          nan,\n",
       "                nan,          nan,          nan,          nan,\n",
       "                nan,          nan,          nan,          nan,\n",
       "                nan,          nan,          nan,          nan,\n",
       "                nan,          nan,          nan,          nan,\n",
       "                nan,          nan,          nan,          nan,\n",
       "                nan,          nan,          nan,  26.35071452,\n",
       "        25.62877714,  25.62877714,  25.38813134,  24.30522526,\n",
       "        22.8613505 ,  22.01909021,  22.13941311,  23.34264209,\n",
       "        24.30522526,  25.26780844,  25.50845424,  26.47103742,\n",
       "        27.3132977 ,  27.67426639,  28.03523508,          nan,\n",
       "                nan,          nan,          nan,          nan,\n",
       "                nan,          nan,          nan,  29.11814116,\n",
       "        28.03523508,  27.79458929,  28.87749536,          nan,\n",
       "                nan,          nan,  47.40722156,  51.01690848,\n",
       "        52.46078324,  53.42336642,  54.2656267 ,  54.74691829,\n",
       "        55.34853278,  55.70950147,  56.07047016,  56.43143886,\n",
       "        56.19079306,  56.19079306,  56.19079306,  57.75499073,\n",
       "        61.24435475,  62.44758372,  63.4101669 ,  63.6508127 ,\n",
       "        63.04919821,  61.36467765,  58.23628232,  54.3859496 ,\n",
       "        50.0543253 ,  43.79753464,  36.2171921 ,  30.44169303,\n",
       "        26.47103742,  24.18490237,  23.94425657,  26.35071452,\n",
       "        28.87749536,  31.8855678 ,  34.17170285,  38.86429584,\n",
       "        45.3617323 ,  49.57303371,  53.18272063,  55.22820988,\n",
       "        58.35660521,  62.44758372,  65.21501036,  68.1027599 ,\n",
       "        70.26857205,  73.51729028,  77.72859169,  80.61634122,\n",
       "        82.54150758,  82.54150758,  82.42118468,  81.33827861,\n",
       "        79.77408094,  77.96923748,  76.04407112,  72.4343842 ,\n",
       "        67.74179121,  64.37275008,  62.32726083,  61.60532344,\n",
       "        62.08661503,  63.5304898 ,  64.49307298,  64.97436457,\n",
       "        64.97436457,  65.33533326,  65.93694775,  66.77920803,\n",
       "        67.982437  ,  69.06534308,  71.11083233,  74.11890477,\n",
       "        76.28471692,  77.96923748,  78.81149776,  80.25537253,\n",
       "        82.18053889,  83.74473656,  85.18861132,  86.2715174 ,\n",
       "        88.19668376,  90.8437875 ,  93.00959965,  94.69412021,\n",
       "        95.65670339,  96.61928657,  97.82251554,  99.14606742,\n",
       "       101.07123377, 102.87607723, 105.40285808, 108.65157631,\n",
       "       110.93771136, 112.74255482, 113.82546089, 115.87095015,\n",
       "       118.75869968, 120.32289735, 121.40580343, 121.40580343,\n",
       "       120.80418894, 119.48063707, 118.63837679, 118.27740809,\n",
       "       118.39773099, 117.9164394 , 117.07417912, 116.71321043,\n",
       "       116.35224174, 116.47256463, 117.55547071, 119.84160576,\n",
       "       121.88709501, 123.93258427, 124.53419876, 124.77484455,\n",
       "       124.65452165, 124.41387586, 124.41387586, 125.01549035,\n",
       "       126.21871932, 128.26420857, 130.06905203, 132.11454129,\n",
       "       133.55841606, 134.88196793, 136.2055198 , 136.92745718,\n",
       "       137.52907167, 137.40874877, 136.68681139, 135.00229083,\n",
       "       133.55841606, 132.35518708, 131.5129268 , 131.39260391,\n",
       "       131.27228101, 131.15195811, 130.91131232, 130.43002073,\n",
       "       129.22679175, 128.14388568, 127.54227119, 127.78291698,\n",
       "       128.98614596, 132.95680157, 139.33391513, 144.62812261,\n",
       "       149.44103851, 152.81007963, 156.29944366, 159.78880768,\n",
       "       161.47332824, 162.31558852, 162.07494273, 161.11235955,\n",
       "       159.42783899, 158.10428712, 157.02138104, 156.29944366,\n",
       "       155.45718338, 154.4946002 , 153.53201702, 152.20846515,\n",
       "       150.88491328, 149.20039271, 146.91425766, 145.2297371 ,\n",
       "       143.42489364, 141.86069597, 138.97294644, 135.24293662,\n",
       "       132.23486419, 130.30969783, 129.22679175, 129.34711465,\n",
       "       130.06905203, 131.39260391, 133.19744737, 134.40067634,\n",
       "       135.48358242, 136.2055198 , 136.56648849, 137.04778008,\n",
       "       138.01036326, 138.85262354, 140.8981128 ])"
      ]
     },
     "execution_count": 41,
     "metadata": {},
     "output_type": "execute_result"
    }
   ],
   "source": [
    "freeboard=-(bed1d[\"surface\"].values-bed1d[\"thickness\"].values)*(1027/916.7-1) #density_seawater=1027kg/m3  density_ice=916.7kg/m3\n",
    "freeboard"
   ]
  },
  {
   "cell_type": "markdown",
   "metadata": {
    "id": "NgQ0b6kmgtDW"
   },
   "source": [
    "* **Make a cross section plot of the ice thickness, bed rock, and freeboard\n",
    "level, similar to (the right) figure 5**  \n",
    " ![jupyter](https://i.ibb.co/k18z5nJ/free-cross.png)  \n",
    "$$\\,\\rm {\\color{grey}{Figure\\,5:\\,(left)\\,How\\,to\\,calculate\\,the\\,freeboard\\,level.\\,(right)\\,Cross\\,section\\,plot\\,of\\,Thwaites\\,glacier.}}$$  "
   ]
  },
  {
   "cell_type": "code",
   "execution_count": null,
   "metadata": {
    "colab": {
     "base_uri": "https://localhost:8080/",
     "height": 331
    },
    "executionInfo": {
     "elapsed": 732,
     "status": "ok",
     "timestamp": 1631147057012,
     "user": {
      "displayName": "Fay Huang",
      "photoUrl": "https://lh3.googleusercontent.com/a-/AOh14GgEHga5YZ6kdxfRMMqnx09wPooznOEf_dOVV7wt=s64",
      "userId": "00997626494185497686"
     },
     "user_tz": -120
    },
    "id": "5d4tCTM2b6cW",
    "outputId": "09fdfc66-9845-4b97-a88f-49a5f91c46a6"
   },
   "outputs": [
    {
     "data": {
      "text/plain": [
       "[<matplotlib.collections.PolyCollection at 0x7f3a4cdf2290>,\n",
       " <matplotlib.collections.PolyCollection at 0x7f3a4cdf2f50>,\n",
       " <matplotlib.collections.PolyCollection at 0x7f3a4ce0f4d0>]"
      ]
     },
     "execution_count": 61,
     "metadata": {},
     "output_type": "execute_result"
    },
    {
     "data": {
      "image/png": "[encoded data removed]",
      "text/plain": [
       "<Figure size 432x288 with 1 Axes>"
      ]
     },
     "metadata": {
      "needs_background": "light"
     },
     "output_type": "display_data"
    }
   ],
   "source": [
    "distance=bed1d.x2\n",
    "plt.plot(distance,bed1d.bed)\n",
    "plt.plot(distance,freeboard,label=\"Freeboard level\",color=\"r\")\n",
    "plt.axhline(y=0,color=\"black\",linewidth=0.5,linestyle=\"dashed\",label=\"Sea level\")\n",
    "plt.legend()\n",
    "plt.figtext(0.6,0.6,'Only ice above red line\\ncontribute to SLR',color='r',fontsize=10)\n",
    "plt.xlabel(\"Distance along track [Km]\")\n",
    "plt.ylabel(\"Height above sea level [m]\")\n",
    "colors=[\"0000FF\",\"000000\",\"7BC8F6\"]\n",
    "plt.fill_between(distance,-2000,color='k')\n",
    "plt.stackplot(distance,bed1d.bed,freeboard,bed1d.thickness,colors=colors)"
   ]
  },
  {
   "cell_type": "markdown",
   "metadata": {
    "id": "XyVZo1WJiR0N"
   },
   "source": [
    "* **Explain what you see. Is the shape of the bedrock important for sea level\n",
    "rise?**   \n",
    "The ice thickness varies inversely proportional to the height of the bed rock, and freeboard level is slightly above sea level. Thus, the shape of bed rock determines the volume of melted ice.[6]"
   ]
  },
  {
   "cell_type": "markdown",
   "metadata": {
    "id": "Su-uZLqLivjc"
   },
   "source": [
    "### Part 3.\n",
    "* **Use the whole data set to estimate the total SLR if all the ice of Antarctica melts.**"
   ]
  },
  {
   "cell_type": "code",
   "execution_count": null,
   "metadata": {
    "colab": {
     "base_uri": "https://localhost:8080/"
    },
    "executionInfo": {
     "elapsed": 1353,
     "status": "ok",
     "timestamp": 1631146331916,
     "user": {
      "displayName": "Fay Huang",
      "photoUrl": "https://lh3.googleusercontent.com/a-/AOh14GgEHga5YZ6kdxfRMMqnx09wPooznOEf_dOVV7wt=s64",
      "userId": "00997626494185497686"
     },
     "user_tz": -120
    },
    "id": "tSoRHXYz2HND",
    "outputId": "c03c4aac-0e46-488e-e6dc-b646454425ec"
   },
   "outputs": [
    {
     "name": "stdout",
     "output_type": "stream",
     "text": [
      "SLR= 68.14242101884591 m\n",
      " Volum of melted water= 2.4599413987803372e+16 m3\n"
     ]
    }
   ],
   "source": [
    "Surface_values_Ant=bedmap['surface'].values\n",
    "thickness_Ant=bedmap['thickness'].values \n",
    "freeboard_ant =-(Surface_values_Ant-thickness_Ant)*(1027/916.7-1) #density_seawater=1027kg/m3  density_ice=916.7kg/m3\n",
    "Height_ant = np.nansum(Surface_values_Ant - freeboard_ant)\n",
    "Vol_Ice=Height_ant*1000*1000\n",
    "vol_ice_water=Vol_Ice*(916.7/1000)  #density_icewater=1000kg/m3  density_ice=916.7kg/m3\n",
    "area_ocean = 361000000*1000000\n",
    "SLR_Melt=vol_ice_water/area_ocean\n",
    "print(\"SLR=\",SLR_Melt,\"m\\nVolum of melted water=\",vol_ice_water,\"m3\")"
   ]
  },
  {
   "cell_type": "markdown",
   "metadata": {
    "id": "Seh1EiCdGUAx"
   },
   "source": [
    "### Part 4.\n",
    "* **How can we use the bedmap data to improve decision making?**  \n",
    "The Antarctic Ice Sheet is a major control on world sea level and contains enough water to raise sea level by perhaps 68 m. The bedmap data provides mapping the topography of the surface of the Antarctic Ice Sheet in the last ten years. Adequate topographic data is of fundamental importance to many scientific disciplines active in Antarctica, including, ice sheet modelling, geoid interpretation, magnetic anomaly mapping, tectonic interpretation, ice core interpretation, oceanography, global isostasy and sea level prediction. An outstanding step forward for Antarctic science would be achieved in many disciplines of Antarctic science by the production of a new topographic model for Antarctica.[7]   \n",
    "\n",
    "* **What are some limitations in your estimated calculation of sea level rise?**\n",
    "The ice in each cell (1000×1000 meters) is not allways cube. Thus, the estimated calculation of SLR can be higher than reality.\n"
   ]
  },
  {
   "cell_type": "markdown",
   "metadata": {
    "id": "itpGztirBZ7E"
   },
   "source": [
    "## Conclusion and Discussion  \n",
    "\n",
    "It is amazing how python can be such as useful tool to solve almost any kind of problem, its reach depends actually on how you see the things and how you can analyze them. \n",
    "\n",
    "Through this assignment, we are familiar with the way of combining markdown and code to write reports. During these two weeks, we reviewed how to implement a certain function and classes in different ways by python, numerical round-off and truncation errors and scientific computing, which are showed in the course. \n",
    "From the project we learnt about the main libraries and its main functions and how when we apply our knowledge and our analyze-skill we can solve problems in efficient ways. Also, we learnt that there are some methods that help us to calculate derivates in easy ways but there is still an error that we should quantify and take it into account, so we take good decisions based on that.\n",
    "\n",
    "Finally, we land all the knowledge that we got from initial exercises and used it to understand the base of data provided in order to get to know how much ice can get melt from the Antarctic if the climate-change keep its fast pace.\n",
    "It is quiet surprising that the sea level will rise 68 meters if the Arctic glacier melts completely. It is hard to imagine how many places will be submerged by a 68-meter rise in sea level. I hope that future exercises will have more opportunities to come into contact with these open resources, so that people can more intuitively understand the current status of the earth, instead of following the media to do meaningless emotional catharsis.\n",
    "\n",
    "There are some limitations on this due to we are not taking all the variables that could be present here, but at least give us a clear view of what could happen if we do not to something about this.\n"
   ]
  },
  {
   "cell_type": "markdown",
   "metadata": {
    "id": "Zv7uGovGBalg"
   },
   "source": [
    "## Self-Reflections  \n",
    "**Reynel Villabona** – I liked the project cause when I first started, I was completely lost about what the course was about or what it will be focused on, this project helped me to land my ideas and give me a path to follow. I liked also how the project was approached because it started from the bases and they started to increase its “difficulty level”. I liked that equations that we saw in class we used them in the project, also the laboratories where we can solve our doubts. I feel sometimes lost in class because I do not see the relation of the equations to the real-life problems, I would like to start from the applications to the equations in order to see their functionality in real life and how they can help us in future and to make predictions. I suggest that theorical questions should be explained in a document so everyone has the same concept which I consider because they will be our bases in this course.  \n",
    "\n",
    "**Jianing Shi** – Because of the previous courses, I am very familiar with R Markdown, so it is easier to get started with python on colab. At the beginning of the project, either jypiter notebook or VS Code was not been able to run normally on my pc due to firewall issues, so in the end I chose Colab. I think the biggest advantage of Colab compared with jypiter notebook and VS Code is that all the data are saved on Google space, which avoid transferring files through third-party software. And of course, we don't need to install it either.\n",
    "\n",
    "**John Emeka Udegbunam** - There is literally not limit to what we can do with computers. However, internal precision errors and truncation errors can introduce inaccuracies when performing numerical calculations with computer programs such as Python and C++. For this reason, strong domain knowledge and analytical skills must complement results derived from numerical computations.\n",
    "\n",
    "**Atanu Das** - Due to Visa issues & Quarantine process during this pandemic, I could not be able to attend the classes physically in the first two weeks. That’s why it was a bit difficult for me to understand the project topic properly at first but because of the cooperation of my group mates, the project has become understandable to me. From this project, I have learned how I can implement packages in Python programming, manipulating large data sets at a time and how class and function method works in code and the last part has given me a real life scenario of coding by using the abovementioned parameters regarding the Sea Level Rise because of the ice melting in Antarctica.  I wish I could get the situation to attend the class from the very first day and would perform better in this project. But surely, in my next project, I will try my best to cover up all of these lacking."
   ]
  },
  {
   "cell_type": "markdown",
   "metadata": {
    "id": "-6GG0oH2X-yq"
   },
   "source": [
    "# References\n",
    "  [1] Python docs. sys — System-specific parameters and functions. https://docs.python.org/3/library/sys.html.  \n",
    "  [2] Wikipedia. IEEE 754. https://en.wikipedia.org/wiki/IEEE_754.  \n",
    "  [3] Towards datas cience. How Floating Point Numbers Work. https://towardsdatascience.com/how-floating-point-numbers-work-1429907b6d1d.  \n",
    "  [4] Daniel Lemire's blog. Why is 0.1 + 0.2 not equal to 0.3?. https://lemire.me/blog/2020/10/10/why-is-0-1-0-2-not-equal-to-0-3/.  \n",
    "  [5] Geeksforgeeks. Problem in comparing Floating point numbers and how to compare them correctly? https://www.geeksforgeeks.org/problem-in-comparing-floating-point-numbers-and-how-to-compare-them-correctly/.  \n",
    "  [6] Antarctic glaciers. Calculating glacier ice volumes and sea level equivalents. http://www.antarcticglaciers.org/glaciers-and-climate/estimating-glacier-contribution-to-sea-level-rise/.  \n",
    "  [7] Bedmap. Introduction & Background. http://www.nerc-bas.ac.uk/public/aedc/bedmap/information/introduction.html."
   ]
  }
 ],
 "metadata": {
  "colab": {
   "collapsed_sections": [],
   "name": "Project1.ipynb",
   "provenance": []
  },
  "kernelspec": {
   "display_name": "Python 3",
   "language": "python",
   "name": "python3"
  },
  "language_info": {
   "codemirror_mode": {
    "name": "ipython",
    "version": 3
   },
   "file_extension": ".py",
   "mimetype": "text/x-python",
   "name": "python",
   "nbconvert_exporter": "python",
   "pygments_lexer": "ipython3",
   "version": "3.8.8"
  }
 },
 "nbformat": 4,
 "nbformat_minor": 1
}
