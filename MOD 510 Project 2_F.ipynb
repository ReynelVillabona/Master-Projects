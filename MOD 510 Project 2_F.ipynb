{
 "cells": [
  {
   "cell_type": "markdown",
   "metadata": {
    "id": "CdnLkP1EaP4u"
   },
   "source": [
    "# <center>Can you hear the size of a reservoir?</center>  \n",
    "<center><i>Mandatory project #2</i></center>  \n",
    "<center><b>Jianing Shi, Reynel Villabona Gonzalez,Armin Hajar Sabri Sabri </b></center>\n",
    "<center>Date: <b>10 10 2021</b></center>"
   ]
  },
  {
   "cell_type": "code",
   "execution_count": 1,
   "metadata": {
    "executionInfo": {
     "elapsed": 405,
     "status": "ok",
     "timestamp": 1634082565438,
     "user": {
      "displayName": "Matsuhiro Shi",
      "photoUrl": "https://lh3.googleusercontent.com/a/default-user=s64",
      "userId": "10142549915009995010"
     },
     "user_tz": -120
    },
    "id": "pcyn9Qx9d3ET"
   },
   "outputs": [],
   "source": [
    "# Import the packages we plan to use\n",
    "import matplotlib.pyplot as plt\n",
    "import numpy as np\n",
    "import scipy as sc\n",
    "import math\n",
    "import scipy.sparse.linalg\n",
    "import timeit\n",
    "import pandas as pd\n",
    "from scipy.optimize import curve_fit"
   ]
  },
  {
   "cell_type": "markdown",
   "metadata": {
    "id": "BaNxVG5SgUZA"
   },
   "source": [
    "<center><b>Abstract</i></center>"
   ]
  },
  {
   "cell_type": "markdown",
   "metadata": {
    "id": "H9vIEayEIPiE"
   },
   "source": [
    "The following project has as its main aim, teach us how to solve differential equations by different methods such as Dense, Sparse and Thomas.Also we reviewd how can they be solved as time dependent or independent, including the error or not as well . We improve our profficiency coding using a large simulator with a Class and many functions inside which made more efficient our time coding and also using different functions at the same time. At the end we realized that the faster method to solve symmetric tridiagonal systems is Thomas Algortihm with a 0.00028 seconds, followed by the Dense method with 0.00038671 seconds and the slowest was Spicy with 0.00229. Finnally we plot the pressures we got from the matrix and noticed that the pressure has a steady behavior when is close to the end of the reservoir. From our results we can say that the ratio of the reservoir is 7.200ft, with a volume of 7.38*10**6 cubic meters."
   ]
  },
  {
   "cell_type": "markdown",
   "metadata": {
    "id": "297OiF-aEkdA"
   },
   "source": [
    "# Intoduction"
   ]
  },
  {
   "cell_type": "markdown",
   "metadata": {
    "id": "IE9cl66G_-Vd"
   },
   "source": [
    "During the last classes we learnt about how to solve the heat equation for time dependent and independet as well, in order to gain knowledge about how to solve linear systems by different methods. We saw how useful is the heat equation for big systems like the change of the temperature of the earth but also for little systems like the process of the curing of the concret.\n",
    "\n",
    "We were set out a problem which we will solve in the following steps and it is to estimate the size of a reservoir that coints fluids in its porous. We started deriviating the equation of flow of fluids for a steady-state its means the pressure were not varying along the time. After have done this we divided the \"ratio\" of the reservoir in N number of grids equally spaced.\n",
    "\n",
    "In the first part to get our first matrix we used the second derivate of the pressure in terms of distance equation using a finite difference formulation and started to evaluated in the number of grids that we have which is 4 in this case, also we we took two different cases one when the boundary condition is \"Lazy\" its mean the pressure in this node is equal to the exterior pressure but this is going to induce us into an error, which is gonna be solved by using the \"Not lazy\" method which is solve this node by a Taylor's approximation. We solve this first part using *np.linalg.solve*. We plot both solutions and compare against the analytical solution and we saw how the error was fixed by introducing the boundary condition into the diffusivity equation.\n",
    "\n",
    "In the second part we were given equations which helped us to give a solution for a time-dependent system so we can see how the pressure have been changing with the time. We created a new matrix to solve this part and get new pressures. At this point we had started to create a Class which contains all the variables and functions needed to solve the laid out problem. Here we were ask to get the left and righ hand side of the matrix, which we did also with the same solver as the first part, but with the difference that we included a solver for the time, so we can obtain the pressure as the time goes move forward.\n",
    "\n",
    "In the third part we were asked to solve another analytical solution which is the line-solution and compare it with our numerical solution in physical coordinates  and also use different methods to solve linear system such as Sparse and Thomas. These were included in our main Class o simulator.\n",
    "\n",
    "Finnally in the last part, we were required to solve the pressure of the well using a Taylor's central difference method in terms of P0. We also were given some data that was collected from the well and it was compared against out numerical solution, after we plot it and see that our model was a little bit far from the taken data, we fit out model to the main curve by varying the external ratio and the permeability, therefore this allowed us to estimated the volume of the reservoir.\n",
    "\n",
    "All the funcitons and variables were compressed in one class which made our job efficient, because every time that we needed to call an specific function we just called the class and the function that we wanted to execute, which is really usefull and organized."
   ]
  },
  {
   "cell_type": "markdown",
   "metadata": {
    "id": "Est2c9rbEqX6"
   },
   "source": [
    "# Exercise 1: Steady-state solution "
   ]
  },
  {
   "cell_type": "markdown",
   "metadata": {
    "id": "4oQ86qTYP4Mc"
   },
   "source": [
    "The simplest situation is when there is no pressure-variation in time, i.e., steadystate flow. Then, we can replace the partial derivatives with ordinary derivatives, and equations become:  \n",
    "$$\\frac{{\\rm d}^2p}{{\\rm d}y^2}(y)=0 \\qquad{\\rm for\\ all\\ y,} \\qquad\\ \\,(1)$$  \n",
    "$$\\frac{{\\rm d}p}{{\\rm d}y}(y=y_w)=\\alpha  \\qquad\\qquad\\qquad(2)$$  \n",
    "$$p(y=y_e)=p_{\\rm init}  \\qquad\\qquad\\qquad(3)$$  "
   ]
  },
  {
   "cell_type": "markdown",
   "metadata": {
    "id": "u3IIiIgqEyd-"
   },
   "source": [
    "## Part 1."
   ]
  },
  {
   "cell_type": "markdown",
   "metadata": {
    "id": "BzMHBrmuOdKP"
   },
   "source": [
    "*   Show that the analytical solution to equations (1), (2), and (3) is  \n",
    "$$p(y)=p_{\\rm init}+\\alpha(y-y_e)  \\qquad\\qquad(4)$$  "
   ]
  },
  {
   "cell_type": "markdown",
   "metadata": {
    "id": "CyQyl6jJE1f9"
   },
   "source": [
    "> According to equation (1),(2):  \n",
    "$$\\frac{dp}{dy}=\\int0{\\rm d}y={\\rm constant}=\\alpha$$  \n",
    "$$p=\\int\\alpha{\\rm d}y=y\\cdot\\alpha+{\\rm constant}$$  \n",
    "According to equation (3):  \n",
    "$$p(y=y_e)=p_{\\rm init}=y_e\\cdot\\alpha+{\\rm constant}$$\n",
    "$${\\rm constant}=p_{\\rm init}-y_e\\cdot\\alpha$$  \n",
    "Hence:  \n",
    "$$p(y)=y\\cdot\\alpha+p_{\\rm init}-y_e\\cdot\\alpha=p_{\\rm init}+\\alpha(y-y_e)$$"
   ]
  },
  {
   "cell_type": "markdown",
   "metadata": {
    "id": "m4L3NqGMFQhk"
   },
   "source": [
    "## Part 2."
   ]
  },
  {
   "cell_type": "markdown",
   "metadata": {
    "id": "Ef7uKdTobDLQ"
   },
   "source": [
    "To obtain a numerical steady-state solution, we start by dividing the total flow domain into N equally-sized grid blocks in the y-coordinates, and we select the midpoint of each y-block as our grid points (see figure 1). Let pi be a short-hand notation for the pressure solution at grid point number i, i = 0, 1, . . . ,N − 1.\n",
    " ![jupyter](https://i.ibb.co/Rz6zkGP/P1.png)  \n",
    "$$\\,\\rm {\\color{grey}{Figure\\,1:\\ Sketch\\ of\\ the\\ coordinate\\ transformation\\ r\\rightarrow y.\\ Note\\ that\\ the\\ pressure\\ is\\ always\\ evaluated\\ at\\ the\\ center\\ of\\ the\\ y-blocks.}}$$  "
   ]
  },
  {
   "cell_type": "markdown",
   "metadata": {
    "id": "3dlQojEGasv8"
   },
   "source": [
    "*   Approximate the second derivative of pressure in equation (1) with an appropriate finite difference formulation"
   ]
  },
  {
   "cell_type": "markdown",
   "metadata": {
    "id": "dbZf_v1Bi3MV"
   },
   "source": [
    "> $$\\frac{{\\rm d}^2p}{{\\rm d}y^2}(y)\\approx\\frac{p(y+\\Delta y)+p(y-\\Delta y)-2p(y)}{\\Delta y^2}=\\frac{p_{\\rm init}+\\alpha(y+\\Delta y-y_e)+p_{\\rm init}+\\alpha(y-\\Delta y-y_e)-2\\cdot(p_{\\rm init}+\\alpha(y-y_e))}{\\Delta y^2}=0$$  "
   ]
  },
  {
   "cell_type": "markdown",
   "metadata": {
    "id": "JcH4ShrsNvTr"
   },
   "source": [
    "* For grid point number i, write down the resulting finite difference equation in terms of the variables $p_i$. Remember to include the truncation error term."
   ]
  },
  {
   "cell_type": "markdown",
   "metadata": {
    "id": "7kcGE1oIf2R_"
   },
   "source": [
    "> $$\\frac{{\\rm d}^2p}{{\\rm d}y^2}(y_i)=\\frac{p_{i+1}+p_{i-1}-2p_i}{\\Delta y^2}+\\mathcal O(\\Delta y^2)=0\\qquad\\qquad(5)$$  \n",
    "\n"
   ]
  },
  {
   "cell_type": "markdown",
   "metadata": {
    "id": "x1MkQMLtFwho"
   },
   "source": [
    "## Part 3."
   ]
  },
  {
   "cell_type": "markdown",
   "metadata": {
    "id": "vhRpG6e4a9Q3"
   },
   "source": [
    "If $p_e = p(y_e) = p_{init}$, the \"lazy\" option for the exterior reservoir boundary is to set  \n",
    "$$p_N = p_e\\qquad\\qquad(6)$$"
   ]
  },
  {
   "cell_type": "markdown",
   "metadata": {
    "id": "czX3DTW8a0MI"
   },
   "source": [
    "* Let $N = 4$. For the \"lazy\" implementation of the boundary condition at $y = y_e$, equation (6), show that the matrix equation we need to solve is  \n",
    "$$\\begin{pmatrix} -1 & 1 & 0 & 0 \\\\ 1 & -2 & 1 & 0 \\\\ 0 & 1 & -2 & 1 \\\\ 0 & 0 & 1 & -2 \\end{pmatrix}\\begin{pmatrix} p_0 \\\\ p_1 \\\\ p_2 \\\\ p_3 \\end{pmatrix}=\\begin{pmatrix} \\alpha\\Delta y \\\\ 0 \\\\0 \\\\ -p_e \\end{pmatrix} $$"
   ]
  },
  {
   "cell_type": "markdown",
   "metadata": {
    "id": "HvrTpt6vF1of"
   },
   "source": [
    "> According to equation (5):  \n",
    "$$p_{-1}+p_1-2p_0=0$$  \n",
    "$$p_0+p_2-2p_1=0$$  \n",
    "$$p_1+p_3-2p_2=0$$  \n",
    "$$p_2+p_4-2p_3=0$$  \n",
    "Due $N=4$ and equation (6), $p_N=p_4=p_e$  \n",
    "And central difference approximation to express the pressure at \"the ghost node\" $i = −1$ in terms of $p_0$:  \n",
    "$$\\frac{\\rm dp}{\\rm dy}\\bigg|_{y = 0}=\\frac{p_0-p_{-1}}{\\Delta y}+\\mathcal O(\\Delta y)=\\alpha$$  \n",
    "$$\\Rightarrow p_{-1}=p_0-\\alpha\\Delta y$$  \n",
    "Hence:  \n",
    "$$-p_0+p_1=\\alpha\\Delta y$$  \n",
    "$$p_0-2p_1+p_2=0$$  \n",
    "$$p_1-2p_2+p_3=0$$  \n",
    "$$p_2-2p_3=-p_e$$  \n",
    "$$\\Rightarrow \\begin{pmatrix} -1 & 1 & 0 & 0 \\\\ 1 & -2 & 1 & 0 \\\\ 0 & 1 & -2 & 1 \\\\ 0 & 0 & 1 & -2 \\end{pmatrix}\\begin{pmatrix} p_0 \\\\ p_1 \\\\ p_2 \\\\ p_3 \\end{pmatrix}=\\begin{pmatrix} \\alpha\\Delta y \\\\ 0 \\\\0 \\\\ -p_e \\end{pmatrix} $$\n"
   ]
  },
  {
   "cell_type": "markdown",
   "metadata": {
    "id": "96-pCUcjF19b"
   },
   "source": [
    "## Part 4."
   ]
  },
  {
   "cell_type": "markdown",
   "metadata": {
    "id": "sJY_sOvTbOCp"
   },
   "source": [
    "We can investigate the error of the \"lazy\" approximation formally with Taylor’s formula:  \n",
    "$$p_N =p(y_e+\\frac{\\Delta y}{2})=p(y_e) + p'(y_e)\\frac{\\Delta y}{2}+\\frac{1}{2}\\frac{\\rm d^2 p}{\\rm dy^2}(\\frac{\\Delta y}{2})^2+\\cdots$$  \n",
    "In the steady state limit we see from equation (1) that $\\frac{\\rm d^2 p}{\\rm dy^2}=0$, hence all higher-order terms are zero. Therefore, we get  \n",
    "$$p_N = p_e + p'(y_e)\\frac{\\Delta y}{2}\\qquad\\qquad(7)$$  \n",
    "A smarter solution for i = N − 1 is therefore to write  \n",
    "$$p'(y_e) = \\frac{p_N-p_{N-1}}{\\Delta y}$$  \n",
    "and to use equation (7) to derive a \"not-so-lazy\" boundary condition  \n",
    "$$p_N =2p_e-p_{N-1}\\qquad\\qquad(8)$$  "
   ]
  },
  {
   "cell_type": "markdown",
   "metadata": {
    "id": "5Ek0t3T3bRDN"
   },
   "source": [
    "* Let N = 4. What is the matrix equation we need to solve when using equation (8) as boundary condition?  "
   ]
  },
  {
   "cell_type": "markdown",
   "metadata": {
    "id": "yndkubjDNEHJ"
   },
   "source": [
    "> Due to $N=4$ and equation (8), $p_4=2p_e-p_3$  \n",
    "Hence:  \n",
    "$$-p_0+p_1=\\alpha\\Delta y$$  \n",
    "$$p_0-2p_1+p_2=0$$  \n",
    "$$p_1-2p_2+p_3=0$$  \n",
    "$$p_2-3p_3=-2p_e$$  \n",
    "$$\\Rightarrow \\begin{pmatrix} -1 & 1 & 0 & 0 \\\\ 1 & -2 & 1 & 0 \\\\ 0 & 1 & -2 & 1 \\\\ 0 & 0 & 1 & -3 \\end{pmatrix}\\begin{pmatrix} p_0 \\\\ p_1 \\\\ p_2 \\\\ p_3 \\end{pmatrix}=\\begin{pmatrix} \\alpha\\Delta y \\\\ 0 \\\\0 \\\\ -2p_e \\end{pmatrix} $$\n"
   ]
  },
  {
   "cell_type": "markdown",
   "metadata": {
    "id": "jK01Zjb-aabt"
   },
   "source": [
    "## Part 5."
   ]
  },
  {
   "cell_type": "markdown",
   "metadata": {
    "id": "FsqkuddRblVS"
   },
   "source": [
    "* For both implementations of the boundary condition at $y = y_e$, solve the matrix equation for $N =$ 4, 40, 400, and 4000.  \n",
    "* Compare with the analytical expression, equation (19), in a single point."
   ]
  },
  {
   "cell_type": "code",
   "execution_count": 2,
   "metadata": {
    "colab": {
     "base_uri": "https://localhost:8080/",
     "height": 1000
    },
    "executionInfo": {
     "elapsed": 5994,
     "status": "ok",
     "timestamp": 1634079747812,
     "user": {
      "displayName": "Matsuhiro Shi",
      "photoUrl": "https://lh3.googleusercontent.com/a/default-user=s64",
      "userId": "10142549915009995010"
     },
     "user_tz": -120
    },
    "id": "p2SHbpAG5-Mi",
    "outputId": "84197817-28e5-4e3b-f0b2-c872fd44181e"
   },
   "outputs": [
    {
     "name": "stdout",
     "output_type": "stream",
     "text": [
      "When N=4 for 1st implementation\n",
      "[[-1.  1.  0.  0.]\n",
      " [ 1. -2.  1.  0.]\n",
      " [ 0.  1. -2.  1.]\n",
      " [ 0.  0.  1. -2.]]\n",
      "[p0,p1,...,p4]=[3891.97750305 3893.98312729 3895.98875153 3897.99437576]\n"
     ]
    },
    {
     "data": {
      "image/png": "[encoded data removed]",
      "text/plain": [
       "<Figure size 432x288 with 1 Axes>"
      ]
     },
     "metadata": {
      "needs_background": "light"
     },
     "output_type": "display_data"
    },
    {
     "name": "stdout",
     "output_type": "stream",
     "text": [
      "error at point 2 is=1.0028121186969656 \n",
      "\n",
      "When N=4 for 2nd implementation\n",
      "[[-1.  1.  0.  0.]\n",
      " [ 1. -2.  1.  0.]\n",
      " [ 0.  1. -2.  1.]\n",
      " [ 0.  0.  1. -3.]]\n",
      "[p0,p1,...,p4]=[3892.98031517 3894.98593941 3896.99156364 3898.99718788]\n"
     ]
    },
    {
     "data": {
      "image/png": "[encoded data removed]",
      "text/plain": [
       "<Figure size 432x288 with 1 Axes>"
      ]
     },
     "metadata": {
      "needs_background": "light"
     },
     "output_type": "display_data"
    },
    {
     "name": "stdout",
     "output_type": "stream",
     "text": [
      "error at point 2 is=4.547473508864641e-13 \n",
      "\n",
      "When N=40 for 1st implementation\n",
      "[[-1.  1.  0. ...  0.  0.  0.]\n",
      " [ 1. -2.  1. ...  0.  0.  0.]\n",
      " [ 0.  1. -2. ...  0.  0.  0.]\n",
      " ...\n",
      " [ 0.  0.  0. ... -2.  1.  0.]\n",
      " [ 0.  0.  0. ...  1. -2.  1.]\n",
      " [ 0.  0.  0. ...  0.  1. -2.]]\n",
      "[p0,p1,...,p40]=[3891.97750305 3892.17806547 3892.3786279  3892.57919032 3892.77975275\n",
      " 3892.98031517 3893.18087759 3893.38144002 3893.58200244 3893.78256486\n",
      " 3893.98312729 3894.18368971 3894.38425214 3894.58481456 3894.78537698\n",
      " 3894.98593941 3895.18650183 3895.38706425 3895.58762668 3895.7881891\n",
      " 3895.98875153 3896.18931395 3896.38987637 3896.5904388  3896.79100122\n",
      " 3896.99156364 3897.19212607 3897.39268849 3897.59325092 3897.79381334\n",
      " 3897.99437576 3898.19493819 3898.39550061 3898.59606303 3898.79662546\n",
      " 3898.99718788 3899.19775031 3899.39831273 3899.59887515 3899.79943758]\n"
     ]
    },
    {
     "data": {
      "image/png": "[encoded data removed]",
      "text/plain": [
       "<Figure size 432x288 with 1 Axes>"
      ]
     },
     "metadata": {
      "needs_background": "light"
     },
     "output_type": "display_data"
    },
    {
     "name": "stdout",
     "output_type": "stream",
     "text": [
      "error at point 20 is=0.10028121186951466 \n",
      "\n",
      "When N=40 for 2nd implementation\n",
      "[[-1.  1.  0. ...  0.  0.  0.]\n",
      " [ 1. -2.  1. ...  0.  0.  0.]\n",
      " [ 0.  1. -2. ...  0.  0.  0.]\n",
      " ...\n",
      " [ 0.  0.  0. ... -2.  1.  0.]\n",
      " [ 0.  0.  0. ...  1. -2.  1.]\n",
      " [ 0.  0.  0. ...  0.  1. -3.]]\n",
      "[p0,p1,...,p40]=[3892.07778426 3892.27834669 3892.47890911 3892.67947153 3892.88003396\n",
      " 3893.08059638 3893.2811588  3893.48172123 3893.68228365 3893.88284608\n",
      " 3894.0834085  3894.28397092 3894.48453335 3894.68509577 3894.88565819\n",
      " 3895.08622062 3895.28678304 3895.48734547 3895.68790789 3895.88847031\n",
      " 3896.08903274 3896.28959516 3896.49015758 3896.69072001 3896.89128243\n",
      " 3897.09184486 3897.29240728 3897.4929697  3897.69353213 3897.89409455\n",
      " 3898.09465697 3898.2952194  3898.49578182 3898.69634425 3898.89690667\n",
      " 3899.09746909 3899.29803152 3899.49859394 3899.69915636 3899.89971879]\n"
     ]
    },
    {
     "data": {
      "image/png": "[encoded data removed]",
      "text/plain": [
       "<Figure size 432x288 with 1 Axes>"
      ]
     },
     "metadata": {
      "needs_background": "light"
     },
     "output_type": "display_data"
    },
    {
     "name": "stdout",
     "output_type": "stream",
     "text": [
      "error at point 20 is=0.0 \n",
      "\n",
      "When N=400 for 1st implementation\n",
      "[[-1.  1.  0. ...  0.  0.  0.]\n",
      " [ 1. -2.  1. ...  0.  0.  0.]\n",
      " [ 0.  1. -2. ...  0.  0.  0.]\n",
      " ...\n",
      " [ 0.  0.  0. ... -2.  1.  0.]\n",
      " [ 0.  0.  0. ...  1. -2.  1.]\n",
      " [ 0.  0.  0. ...  0.  1. -2.]]\n",
      "[p0,p1,...,p400]=[3891.97750305 3891.99755929 3892.01761554 3892.03767178 3892.05772802\n",
      " 3892.07778426 3892.0978405  3892.11789675 3892.13795299 3892.15800923\n",
      " 3892.17806547 3892.19812172 3892.21817796 3892.2382342  3892.25829044\n",
      " 3892.27834669 3892.29840293 3892.31845917 3892.33851541 3892.35857166\n",
      " 3892.3786279  3892.39868414 3892.41874038 3892.43879663 3892.45885287\n",
      " 3892.47890911 3892.49896535 3892.51902159 3892.53907784 3892.55913408\n",
      " 3892.57919032 3892.59924656 3892.61930281 3892.63935905 3892.65941529\n",
      " 3892.67947153 3892.69952778 3892.71958402 3892.73964026 3892.7596965\n",
      " 3892.77975275 3892.79980899 3892.81986523 3892.83992147 3892.85997771\n",
      " 3892.88003396 3892.9000902  3892.92014644 3892.94020268 3892.96025893\n",
      " 3892.98031517 3893.00037141 3893.02042765 3893.0404839  3893.06054014\n",
      " 3893.08059638 3893.10065262 3893.12070887 3893.14076511 3893.16082135\n",
      " 3893.18087759 3893.20093384 3893.22099008 3893.24104632 3893.26110256\n",
      " 3893.2811588  3893.30121505 3893.32127129 3893.34132753 3893.36138377\n",
      " 3893.38144002 3893.40149626 3893.4215525  3893.44160874 3893.46166499\n",
      " 3893.48172123 3893.50177747 3893.52183371 3893.54188996 3893.5619462\n",
      " 3893.58200244 3893.60205868 3893.62211493 3893.64217117 3893.66222741\n",
      " 3893.68228365 3893.70233989 3893.72239614 3893.74245238 3893.76250862\n",
      " 3893.78256486 3893.80262111 3893.82267735 3893.84273359 3893.86278983\n",
      " 3893.88284608 3893.90290232 3893.92295856 3893.9430148  3893.96307105\n",
      " 3893.98312729 3894.00318353 3894.02323977 3894.04329601 3894.06335226\n",
      " 3894.0834085  3894.10346474 3894.12352098 3894.14357723 3894.16363347\n",
      " 3894.18368971 3894.20374595 3894.2238022  3894.24385844 3894.26391468\n",
      " 3894.28397092 3894.30402717 3894.32408341 3894.34413965 3894.36419589\n",
      " 3894.38425214 3894.40430838 3894.42436462 3894.44442086 3894.4644771\n",
      " 3894.48453335 3894.50458959 3894.52464583 3894.54470207 3894.56475832\n",
      " 3894.58481456 3894.6048708  3894.62492704 3894.64498329 3894.66503953\n",
      " 3894.68509577 3894.70515201 3894.72520826 3894.7452645  3894.76532074\n",
      " 3894.78537698 3894.80543323 3894.82548947 3894.84554571 3894.86560195\n",
      " 3894.88565819 3894.90571444 3894.92577068 3894.94582692 3894.96588316\n",
      " 3894.98593941 3895.00599565 3895.02605189 3895.04610813 3895.06616438\n",
      " 3895.08622062 3895.10627686 3895.1263331  3895.14638935 3895.16644559\n",
      " 3895.18650183 3895.20655807 3895.22661432 3895.24667056 3895.2667268\n",
      " 3895.28678304 3895.30683928 3895.32689553 3895.34695177 3895.36700801\n",
      " 3895.38706425 3895.4071205  3895.42717674 3895.44723298 3895.46728922\n",
      " 3895.48734547 3895.50740171 3895.52745795 3895.54751419 3895.56757044\n",
      " 3895.58762668 3895.60768292 3895.62773916 3895.6477954  3895.66785165\n",
      " 3895.68790789 3895.70796413 3895.72802037 3895.74807662 3895.76813286\n",
      " 3895.7881891  3895.80824534 3895.82830159 3895.84835783 3895.86841407\n",
      " 3895.88847031 3895.90852656 3895.9285828  3895.94863904 3895.96869528\n",
      " 3895.98875153 3896.00880777 3896.02886401 3896.04892025 3896.06897649\n",
      " 3896.08903274 3896.10908898 3896.12914522 3896.14920146 3896.16925771\n",
      " 3896.18931395 3896.20937019 3896.22942643 3896.24948268 3896.26953892\n",
      " 3896.28959516 3896.3096514  3896.32970765 3896.34976389 3896.36982013\n",
      " 3896.38987637 3896.40993262 3896.42998886 3896.4500451  3896.47010134\n",
      " 3896.49015758 3896.51021383 3896.53027007 3896.55032631 3896.57038255\n",
      " 3896.5904388  3896.61049504 3896.63055128 3896.65060752 3896.67066377\n",
      " 3896.69072001 3896.71077625 3896.73083249 3896.75088874 3896.77094498\n",
      " 3896.79100122 3896.81105746 3896.8311137  3896.85116995 3896.87122619\n",
      " 3896.89128243 3896.91133867 3896.93139492 3896.95145116 3896.9715074\n",
      " 3896.99156364 3897.01161989 3897.03167613 3897.05173237 3897.07178861\n",
      " 3897.09184486 3897.1119011  3897.13195734 3897.15201358 3897.17206983\n",
      " 3897.19212607 3897.21218231 3897.23223855 3897.25229479 3897.27235104\n",
      " 3897.29240728 3897.31246352 3897.33251976 3897.35257601 3897.37263225\n",
      " 3897.39268849 3897.41274473 3897.43280098 3897.45285722 3897.47291346\n",
      " 3897.4929697  3897.51302595 3897.53308219 3897.55313843 3897.57319467\n",
      " 3897.59325092 3897.61330716 3897.6333634  3897.65341964 3897.67347588\n",
      " 3897.69353213 3897.71358837 3897.73364461 3897.75370085 3897.7737571\n",
      " 3897.79381334 3897.81386958 3897.83392582 3897.85398207 3897.87403831\n",
      " 3897.89409455 3897.91415079 3897.93420704 3897.95426328 3897.97431952\n",
      " 3897.99437576 3898.014432   3898.03448825 3898.05454449 3898.07460073\n",
      " 3898.09465697 3898.11471322 3898.13476946 3898.1548257  3898.17488194\n",
      " 3898.19493819 3898.21499443 3898.23505067 3898.25510691 3898.27516316\n",
      " 3898.2952194  3898.31527564 3898.33533188 3898.35538813 3898.37544437\n",
      " 3898.39550061 3898.41555685 3898.43561309 3898.45566934 3898.47572558\n",
      " 3898.49578182 3898.51583806 3898.53589431 3898.55595055 3898.57600679\n",
      " 3898.59606303 3898.61611928 3898.63617552 3898.65623176 3898.676288\n",
      " 3898.69634425 3898.71640049 3898.73645673 3898.75651297 3898.77656922\n",
      " 3898.79662546 3898.8166817  3898.83673794 3898.85679418 3898.87685043\n",
      " 3898.89690667 3898.91696291 3898.93701915 3898.9570754  3898.97713164\n",
      " 3898.99718788 3899.01724412 3899.03730037 3899.05735661 3899.07741285\n",
      " 3899.09746909 3899.11752534 3899.13758158 3899.15763782 3899.17769406\n",
      " 3899.19775031 3899.21780655 3899.23786279 3899.25791903 3899.27797527\n",
      " 3899.29803152 3899.31808776 3899.338144   3899.35820024 3899.37825649\n",
      " 3899.39831273 3899.41836897 3899.43842521 3899.45848146 3899.4785377\n",
      " 3899.49859394 3899.51865018 3899.53870643 3899.55876267 3899.57881891\n",
      " 3899.59887515 3899.61893139 3899.63898764 3899.65904388 3899.67910012\n",
      " 3899.69915636 3899.71921261 3899.73926885 3899.75932509 3899.77938133\n",
      " 3899.79943758 3899.81949382 3899.83955006 3899.8596063  3899.87966255\n",
      " 3899.89971879 3899.91977503 3899.93983127 3899.95988752 3899.97994376]\n"
     ]
    },
    {
     "data": {
      "image/png": "[encoded data removed]",
      "text/plain": [
       "<Figure size 432x288 with 1 Axes>"
      ]
     },
     "metadata": {
      "needs_background": "light"
     },
     "output_type": "display_data"
    },
    {
     "name": "stdout",
     "output_type": "stream",
     "text": [
      "error at point 200 is=0.010028121159393777 \n",
      "\n",
      "When N=400 for 2nd implementation\n",
      "[[-1.  1.  0. ...  0.  0.  0.]\n",
      " [ 1. -2.  1. ...  0.  0.  0.]\n",
      " [ 0.  1. -2. ...  0.  0.  0.]\n",
      " ...\n",
      " [ 0.  0.  0. ... -2.  1.  0.]\n",
      " [ 0.  0.  0. ...  1. -2.  1.]\n",
      " [ 0.  0.  0. ...  0.  1. -3.]]\n",
      "[p0,p1,...,p400]=[3891.98753117 3892.00758741 3892.02764366 3892.0476999  3892.06775614\n",
      " 3892.08781238 3892.10786863 3892.12792487 3892.14798111 3892.16803735\n",
      " 3892.1880936  3892.20814984 3892.22820608 3892.24826232 3892.26831856\n",
      " 3892.28837481 3892.30843105 3892.32848729 3892.34854353 3892.36859978\n",
      " 3892.38865602 3892.40871226 3892.4287685  3892.44882475 3892.46888099\n",
      " 3892.48893723 3892.50899347 3892.52904972 3892.54910596 3892.5691622\n",
      " 3892.58921844 3892.60927469 3892.62933093 3892.64938717 3892.66944341\n",
      " 3892.68949965 3892.7095559  3892.72961214 3892.74966838 3892.76972462\n",
      " 3892.78978087 3892.80983711 3892.82989335 3892.84994959 3892.87000584\n",
      " 3892.89006208 3892.91011832 3892.93017456 3892.95023081 3892.97028705\n",
      " 3892.99034329 3893.01039953 3893.03045578 3893.05051202 3893.07056826\n",
      " 3893.0906245  3893.11068074 3893.13073699 3893.15079323 3893.17084947\n",
      " 3893.19090571 3893.21096196 3893.2310182  3893.25107444 3893.27113068\n",
      " 3893.29118693 3893.31124317 3893.33129941 3893.35135565 3893.3714119\n",
      " 3893.39146814 3893.41152438 3893.43158062 3893.45163686 3893.47169311\n",
      " 3893.49174935 3893.51180559 3893.53186183 3893.55191808 3893.57197432\n",
      " 3893.59203056 3893.6120868  3893.63214305 3893.65219929 3893.67225553\n",
      " 3893.69231177 3893.71236802 3893.73242426 3893.7524805  3893.77253674\n",
      " 3893.79259299 3893.81264923 3893.83270547 3893.85276171 3893.87281795\n",
      " 3893.8928742  3893.91293044 3893.93298668 3893.95304292 3893.97309917\n",
      " 3893.99315541 3894.01321165 3894.03326789 3894.05332414 3894.07338038\n",
      " 3894.09343662 3894.11349286 3894.13354911 3894.15360535 3894.17366159\n",
      " 3894.19371783 3894.21377408 3894.23383032 3894.25388656 3894.2739428\n",
      " 3894.29399904 3894.31405529 3894.33411153 3894.35416777 3894.37422401\n",
      " 3894.39428026 3894.4143365  3894.43439274 3894.45444898 3894.47450523\n",
      " 3894.49456147 3894.51461771 3894.53467395 3894.5547302  3894.57478644\n",
      " 3894.59484268 3894.61489892 3894.63495517 3894.65501141 3894.67506765\n",
      " 3894.69512389 3894.71518013 3894.73523638 3894.75529262 3894.77534886\n",
      " 3894.7954051  3894.81546135 3894.83551759 3894.85557383 3894.87563007\n",
      " 3894.89568632 3894.91574256 3894.9357988  3894.95585504 3894.97591129\n",
      " 3894.99596753 3895.01602377 3895.03608001 3895.05613625 3895.0761925\n",
      " 3895.09624874 3895.11630498 3895.13636122 3895.15641747 3895.17647371\n",
      " 3895.19652995 3895.21658619 3895.23664244 3895.25669868 3895.27675492\n",
      " 3895.29681116 3895.31686741 3895.33692365 3895.35697989 3895.37703613\n",
      " 3895.39709238 3895.41714862 3895.43720486 3895.4572611  3895.47731734\n",
      " 3895.49737359 3895.51742983 3895.53748607 3895.55754231 3895.57759856\n",
      " 3895.5976548  3895.61771104 3895.63776728 3895.65782353 3895.67787977\n",
      " 3895.69793601 3895.71799225 3895.7380485  3895.75810474 3895.77816098\n",
      " 3895.79821722 3895.81827347 3895.83832971 3895.85838595 3895.87844219\n",
      " 3895.89849843 3895.91855468 3895.93861092 3895.95866716 3895.9787234\n",
      " 3895.99877965 3896.01883589 3896.03889213 3896.05894837 3896.07900462\n",
      " 3896.09906086 3896.1191171  3896.13917334 3896.15922959 3896.17928583\n",
      " 3896.19934207 3896.21939831 3896.23945455 3896.2595108  3896.27956704\n",
      " 3896.29962328 3896.31967952 3896.33973577 3896.35979201 3896.37984825\n",
      " 3896.39990449 3896.41996074 3896.44001698 3896.46007322 3896.48012946\n",
      " 3896.50018571 3896.52024195 3896.54029819 3896.56035443 3896.58041068\n",
      " 3896.60046692 3896.62052316 3896.6405794  3896.66063564 3896.68069189\n",
      " 3896.70074813 3896.72080437 3896.74086061 3896.76091686 3896.7809731\n",
      " 3896.80102934 3896.82108558 3896.84114183 3896.86119807 3896.88125431\n",
      " 3896.90131055 3896.9213668  3896.94142304 3896.96147928 3896.98153552\n",
      " 3897.00159177 3897.02164801 3897.04170425 3897.06176049 3897.08181673\n",
      " 3897.10187298 3897.12192922 3897.14198546 3897.1620417  3897.18209795\n",
      " 3897.20215419 3897.22221043 3897.24226667 3897.26232292 3897.28237916\n",
      " 3897.3024354  3897.32249164 3897.34254789 3897.36260413 3897.38266037\n",
      " 3897.40271661 3897.42277285 3897.4428291  3897.46288534 3897.48294158\n",
      " 3897.50299782 3897.52305407 3897.54311031 3897.56316655 3897.58322279\n",
      " 3897.60327904 3897.62333528 3897.64339152 3897.66344776 3897.68350401\n",
      " 3897.70356025 3897.72361649 3897.74367273 3897.76372898 3897.78378522\n",
      " 3897.80384146 3897.8238977  3897.84395394 3897.86401019 3897.88406643\n",
      " 3897.90412267 3897.92417891 3897.94423516 3897.9642914  3897.98434764\n",
      " 3898.00440388 3898.02446013 3898.04451637 3898.06457261 3898.08462885\n",
      " 3898.1046851  3898.12474134 3898.14479758 3898.16485382 3898.18491007\n",
      " 3898.20496631 3898.22502255 3898.24507879 3898.26513503 3898.28519128\n",
      " 3898.30524752 3898.32530376 3898.34536    3898.36541625 3898.38547249\n",
      " 3898.40552873 3898.42558497 3898.44564122 3898.46569746 3898.4857537\n",
      " 3898.50580994 3898.52586619 3898.54592243 3898.56597867 3898.58603491\n",
      " 3898.60609116 3898.6261474  3898.64620364 3898.66625988 3898.68631612\n",
      " 3898.70637237 3898.72642861 3898.74648485 3898.76654109 3898.78659734\n",
      " 3898.80665358 3898.82670982 3898.84676606 3898.86682231 3898.88687855\n",
      " 3898.90693479 3898.92699103 3898.94704728 3898.96710352 3898.98715976\n",
      " 3899.007216   3899.02727224 3899.04732849 3899.06738473 3899.08744097\n",
      " 3899.10749721 3899.12755346 3899.1476097  3899.16766594 3899.18772218\n",
      " 3899.20777843 3899.22783467 3899.24789091 3899.26794715 3899.2880034\n",
      " 3899.30805964 3899.32811588 3899.34817212 3899.36822837 3899.38828461\n",
      " 3899.40834085 3899.42839709 3899.44845333 3899.46850958 3899.48856582\n",
      " 3899.50862206 3899.5286783  3899.54873455 3899.56879079 3899.58884703\n",
      " 3899.60890327 3899.62895952 3899.64901576 3899.669072   3899.68912824\n",
      " 3899.70918449 3899.72924073 3899.74929697 3899.76935321 3899.78940946\n",
      " 3899.8094657  3899.82952194 3899.84957818 3899.86963442 3899.88969067\n",
      " 3899.90974691 3899.92980315 3899.94985939 3899.96991564 3899.98997188]\n"
     ]
    },
    {
     "data": {
      "image/png": "[encoded data removed]",
      "text/plain": [
       "<Figure size 432x288 with 1 Axes>"
      ]
     },
     "metadata": {
      "needs_background": "light"
     },
     "output_type": "display_data"
    },
    {
     "name": "stdout",
     "output_type": "stream",
     "text": [
      "error at point 200 is=2.7284841053187847e-11 \n",
      "\n",
      "When N=4000 for 1st implementation\n",
      "[[-1.  1.  0. ...  0.  0.  0.]\n",
      " [ 1. -2.  1. ...  0.  0.  0.]\n",
      " [ 0.  1. -2. ...  0.  0.  0.]\n",
      " ...\n",
      " [ 0.  0.  0. ... -2.  1.  0.]\n",
      " [ 0.  0.  0. ...  1. -2.  1.]\n",
      " [ 0.  0.  0. ...  0.  1. -2.]]\n",
      "[p0,p1,...,p4000]=[3891.97750305 3891.97950867 3891.9815143  ... 3899.99398313 3899.99598875\n",
      " 3899.99799438]\n"
     ]
    },
    {
     "data": {
      "image/png": "[encoded data removed]",
      "text/plain": [
       "<Figure size 432x288 with 1 Axes>"
      ]
     },
     "metadata": {
      "needs_background": "light"
     },
     "output_type": "display_data"
    },
    {
     "name": "stdout",
     "output_type": "stream",
     "text": [
      "error at point 2000 is=0.0010028121819232183 \n",
      "\n",
      "When N=4000 for 2nd implementation\n",
      "[[-1.  1.  0. ...  0.  0.  0.]\n",
      " [ 1. -2.  1. ...  0.  0.  0.]\n",
      " [ 0.  1. -2. ...  0.  0.  0.]\n",
      " ...\n",
      " [ 0.  0.  0. ... -2.  1.  0.]\n",
      " [ 0.  0.  0. ...  1. -2.  1.]\n",
      " [ 0.  0.  0. ...  0.  1. -3.]]\n",
      "[p0,p1,...,p4000]=[3891.97850586 3891.98051149 3891.98251711 ... 3899.99498594 3899.99699156\n",
      " 3899.99899719]\n"
     ]
    },
    {
     "data": {
      "image/png": "[encoded data removed]",
      "text/plain": [
       "<Figure size 432x288 with 1 Axes>"
      ]
     },
     "metadata": {
      "needs_background": "light"
     },
     "output_type": "display_data"
    },
    {
     "name": "stdout",
     "output_type": "stream",
     "text": [
      "error at point 2000 is=6.320988177321851e-11 \n",
      "\n"
     ]
    }
   ],
   "source": [
    "def analytical(x,implementation,Pi,alpha,xe):\n",
    "  return Pi+alpha*(x-xe)\n",
    "\n",
    "def tri_diag(a, b, c, k1=-1, k2=0, k3=1):\n",
    "  \"\"\" a,b,c diagonal terms\n",
    "    default k-values for 4x4 matrix:\n",
    "    | b0 c0 0  0 |\n",
    "    | a0 b1 c1 0 |\n",
    "    | 0  a1 b2 c2|\n",
    "    | 0  0  a2 b3|\n",
    "  \"\"\"\n",
    "  return np.diag(a, k1) + np.diag(b, k2) + np.diag(c, k3)\n",
    "\n",
    "def SolveMatrixEquaion(N,implementation):\n",
    "  # set simulation parameters\n",
    "  alpha=1\n",
    "  Pi=3900\n",
    "  rw=0.328\n",
    "  re=1000\n",
    "  ye=np.log(re/rw)\n",
    "  deltay=ye/N\n",
    "\n",
    "  y=np.arange(0,ye,deltay)+deltay/2\n",
    "\n",
    "  a=np.ones(N-1)\n",
    "  b=-2*np.ones(N)\n",
    "  c=np.ones(N-1)\n",
    "  #lhs boundary condition\n",
    "  b[0]=-1\n",
    "  if implementation==2:\n",
    "      b[N-1]=-3\n",
    "  A=tri_diag(a,b,c)\n",
    "  #rhs vector\n",
    "  d=np.zeros(N)\n",
    "  #rhs boundary condition\n",
    "  d[0]=alpha*deltay\n",
    "  if implementation==1:\n",
    "    d[N-1]=-Pi\n",
    "  else:\n",
    "    d[N-1]=-2*Pi\n",
    "  pn=np.linalg.solve(A,d)\n",
    "  if implementation==1:\n",
    "    print(\"When N=\",N,\" for 1st implementation\\n\",A,\"\\n[p0,p1,...,p\",N,\"]=\",pn,sep=\"\")\n",
    "  else:\n",
    "    print(\"When N=\",N,\" for 2nd implementation\\n\",A,\"\\n[p0,p1,...,p\",N,\"]=\",pn,sep=\"\")\n",
    "  \n",
    "  #analytical solution\n",
    "  pa=analytical(y,implementation,Pi,alpha,ye)\n",
    "  #view \n",
    "  plt.plot(y,pa,label='analytical',linewidth=10)\n",
    "  plt.plot(y,pn,'*',label='numerical')\n",
    "  plt.xlabel(\"radius in  log scale\")\n",
    "  plt.ylabel(\"pressure change\") \n",
    "  plt.legend()\n",
    "  plt.grid()\n",
    "  plt.show()  \n",
    "\n",
    "  #error\n",
    "  Ni=N//2\n",
    "  yi=y[Ni]\n",
    "  err=np.abs(pn[Ni]-analytical(yi,implementation,Pi,alpha,ye))\n",
    "  print(\"error at point \" + str(Ni)+\" is=\"+str(err),\"\\n\")\n",
    "\n",
    "SolveMatrixEquaion(4,1)\n",
    "SolveMatrixEquaion(4,2)\n",
    "SolveMatrixEquaion(40,1)\n",
    "SolveMatrixEquaion(40,2)\n",
    "SolveMatrixEquaion(400,1)\n",
    "SolveMatrixEquaion(400,2)\n",
    "SolveMatrixEquaion(4000,1)\n",
    "SolveMatrixEquaion(4000,2)"
   ]
  },
  {
   "cell_type": "markdown",
   "metadata": {
    "id": "GF3MPxA2V7Vk"
   },
   "source": [
    "* Does the numerical error scale as you expect in the two cases? Where do the errors originate from?"
   ]
  },
  {
   "cell_type": "markdown",
   "metadata": {
    "id": "-YPOcFFlX9Bs"
   },
   "source": [
    "Yes we expected that the error would decrease as we are increasing the numbers of grids, but we did not expect that the error in not lazy case would be almost zero.\n",
    "\n",
    "We think that the error comes from the discretization system, comparing that Pn in equation 20 and equation 22 for not lazy and lazy, we can clearly see that the error could be elimanted by taking into account this term $$p'(y_e)\\frac{\\Delta y}{2}\\qquad\\qquad$$.\n",
    "\n",
    "Yes, specially when N is big (huge amounts of examples). And There is no error according to equation (1) $\\frac{{\\rm d}^2p}{{\\rm d}y^2}(y)=0$.\n"
   ]
  },
  {
   "cell_type": "markdown",
   "metadata": {
    "id": "L_DlUhKiGfDq"
   },
   "source": [
    "# Exercise 2: Time-dependent solution  "
   ]
  },
  {
   "cell_type": "markdown",
   "metadata": {
    "id": "Wa28jwvpURjs"
   },
   "source": [
    "The equations needed in the rest of the project:  \n",
    "$$\\frac{\\partial p}{\\partial t}=\\eta\\cdot\\frac{e^{-2y_i}}{r_w^2}\\cdot\\frac{\\partial^2 p}{\\partial y^2}\\qquad\\qquad(10)$$  \n",
    "$$\\frac{\\partial p}{\\partial y}(y=y_w)=\\frac{Q\\mu}{2\\pi hk}\\qquad\\qquad(11)$$  \n",
    "$$p(y=y_e)=p_{init}\\qquad\\qquad(12)$$  \n",
    "To capture how pressure changes in time, we go back to the original diffusivity equation. We apply the following implicit time-discreization  \n",
    "$$\\frac{p_i^{n+1}-p_i^n}{\\Delta t}=\\eta\\cdot\\frac{e^{-2y_i}}{r_w^2}\\cdot\\frac{p_{i+1}^{n+1}+p_{i-1}^{n+1}-2p_i^{n+1}}{\\Delta y^2}\\qquad\\qquad(13)$$  "
   ]
  },
  {
   "cell_type": "markdown",
   "metadata": {
    "id": "pXUlp9F-E32d"
   },
   "source": [
    "## Part 1."
   ]
  },
  {
   "cell_type": "markdown",
   "metadata": {
    "id": "SNFM1CjeF1uf"
   },
   "source": [
    "* Show that for the special case N = 4, the matrix equation we need to solve each time step is:  \n",
    "$$\\underbrace{\\begin{pmatrix} 1+\\xi_0\t\\ & -\\xi_0\t & 0 & 0 \\\\ -\\xi_1 & 1+2\\xi_1 & -\\xi_1 & 0 \\\\ 0 & -\\xi_2 & 1+2\\xi_2 & -\\xi_2 \\\\ 0 & 0 & -\\xi_3 & 1+3\\xi_3 \\end{pmatrix}}_{A}\\underbrace{\\begin{pmatrix} p_0^{n+1} \\\\ p_1^{n+1} \\\\ p_2^{n+1} \\\\ p_3^{n+1} \\end{pmatrix}}_{p^{n+1}}=\\underbrace{\\begin{pmatrix} p_0^n \\\\ p_1^n \\\\ p_2^n \\\\ p_3^n \\end{pmatrix}}_{p^n}+\\underbrace{\\begin{pmatrix} -\\beta\\xi_0 \\\\ 0 \\\\0 \\\\ 2p_i\\xi_{N-1} \\end{pmatrix}}_{d} \\qquad\\qquad(11)$$  \n",
    "where we have defined  \n",
    "$$\\xi_i\\equiv\\frac{\\eta e^{-2y_i}\\Delta t}{r_w^2\\Delta y^2}$$  \n",
    "and  \n",
    "$$\\beta\\equiv\\frac{Q\\mu \\Delta y}{2\\pi k h}$$\n"
   ]
  },
  {
   "cell_type": "markdown",
   "metadata": {
    "id": "jSa3NcxUReRW"
   },
   "source": [
    "> According to equation (13) and $\\xi_i\\equiv\\frac{\\eta e^{-2y_i}\\Delta t}{r_w^2\\Delta y^2}$:  \n",
    "$$p_i^{n+1}-p_i^n=\\xi_i\\cdot (p_{i+1}^{n+1}+p_{i-1}^{n+1}-2p_i^{n+1})$$  \n",
    "$$ -\\xi_i\\cdot p_{i+1}^{n+1}+(2\\xi_i+1)\\cdot p_i^{n+1}-\\xi_i\\cdot p_{i-1}^{n+1}=p_i^n$$  \n",
    "$$\\Downarrow$$  \n",
    "$$ -\\xi_0\\cdot p_1^{n+1}+(2\\xi_0+1)\\cdot p_0^{n+1}-\\xi_0\\cdot p_{-1}^{n+1}=p_0^n$$  \n",
    "$$ -\\xi_1\\cdot p_2^{n+1}+(2\\xi_1+1)\\cdot p_1^{n+1}-\\xi_1\\cdot p_0^{n+1}=p_1^n$$  \n",
    "$$ -\\xi_2\\cdot p_3^{n+1}+(2\\xi_2+1)\\cdot p_2^{n+1}-\\xi_2\\cdot p_1^{n+1}=p_2^n$$    \n",
    "$$ -\\xi_3\\cdot p_4^{n+1}+(2\\xi_3+1)\\cdot p_3^{n+1}-\\xi_3\\cdot p_2^{n+1}=p_3^n$$    \n",
    "Due $N=4$ and equation (8), $p_N=p_4=2p_i-p_3^{n+1}$  \n",
    "And central difference approximation to express the pressure at \"the ghost node\" $i = −1$ in terms of $p_0$:  \n",
    "$\\frac{\\partial p}{\\partial y}\\bigg|_{y = 0}=\\frac{p_0^{n+1}-p_{-1}^{n+1}}{\\Delta y}+\\mathcal O(\\Delta y)=\\frac{Q\\mu}{2\\pi hk}$  \n",
    "$\\Rightarrow p_{-1}^{n+1}=p_0^{n+1}-\\beta$  \n",
    "Hence:  \n",
    "$$ -\\xi_0\\cdot p_1^{n+1}+(\\xi_0+1)\\cdot p_0^{n+1}=p_0^n-\\xi_0 \\beta$$  \n",
    "$$ -\\xi_1\\cdot p_2^{n+1}+(2\\xi_1+1)\\cdot p_1^{n+1}-\\xi_1\\cdot p_0^{n+1}=p_1^n$$  \n",
    "$$ -\\xi_2\\cdot p_3^{n+1}+(2\\xi_2+1)\\cdot p_2^{n+1}-\\xi_2\\cdot p_1^{n+1}=p_2^n$$  \n",
    "$$ (3\\xi_3+1)\\cdot p_3^{n+1}-\\xi_3\\cdot p_2^{n+1}=p_3^n+\\xi_3\\cdot 2p_i=p_3^n+\\xi_{N-1}\\cdot 2p_i$$  \n",
    "$$\\Rightarrow\\begin{pmatrix} 1+\\xi_0\t\\ & -\\xi_0\t & 0 & 0 \\\\ -\\xi_1 & 1+2\\xi_1 & -\\xi_1 & 0 \\\\ 0 & -\\xi_2 & 1+2\\xi_2 & -\\xi_2 \\\\ 0 & 0 & -\\xi_3 & 1+3\\xi_3 \\end{pmatrix}\\begin{pmatrix} p_0^{n+1} \\\\ p_1^{n+1} \\\\ p_2^{n+1} \\\\ p_3^{n+1} \\end{pmatrix}=\\begin{pmatrix} p_0^n \\\\ p_1^n \\\\ p_2^n \\\\ p_3^n \\end{pmatrix}+\\begin{pmatrix} -\\beta\\xi_0 \\\\ 0 \\\\0 \\\\ 2p_i\\xi_{N-1} \\end{pmatrix}$$  "
   ]
  },
  {
   "cell_type": "code",
   "execution_count": 3,
   "metadata": {
    "colab": {
     "base_uri": "https://localhost:8080/"
    },
    "executionInfo": {
     "elapsed": 630,
     "status": "ok",
     "timestamp": 1634083785311,
     "user": {
      "displayName": "Matsuhiro Shi",
      "photoUrl": "https://lh3.googleusercontent.com/a/default-user=s64",
      "userId": "10142549915009995010"
     },
     "user_tz": -120
    },
    "id": "Mw15ZcJSo0up",
    "outputId": "11b65f1e-de8e-45c5-e126-3fcd0d28e9e8"
   },
   "outputs": [],
   "source": [
    "class RadialDiffusivityEquationSolver:\n",
    "    \"\"\"\n",
    "      A finite difference solver for the radial diffusivity equation.\n",
    "      We use the coordinate transformation y = ln(r/rw) to set up and\n",
    "      solve the pressure equation.\n",
    "      The solver uses SI units internally, while \"practical field units\"\n",
    "      are required as input.\n",
    "      Except for the number of grid points and the choice of time step,\n",
    "      all class instance attributes are provided with default values.\n",
    "      Input arguments:\n",
    "      name symbol unit\n",
    "      --------------------------------------------------------------\n",
    "      Number of grid points N dimensionless\n",
    "      Constant time step dt days\n",
    "      Well radius rw ft\n",
    "      Outer reservoir boundary re ft\n",
    "      Height of reservoir h ft\n",
    "      Absolute permeability k mD\n",
    "      Porosity phi dimensionless\n",
    "      Fluid viscosity mu mPas (cP)\n",
    "      Total (rock+fluid) compressibility ct 1 / psi\n",
    "      Constant flow rate at well Q bbl / day\n",
    "      Initial reservoir pressure pi psi\n",
    "      -------------------------------------------------------------\n",
    "    \"\"\" \n",
    "    \n",
    "    \n",
    "    def __init__(self,N,dt,rw=0.328,re=1000.0,h=8.0,phi=0.2,mu=1.0,ct=7.8e-6,Q=1000.0,k=500,pi=3900.0, t_final=4.5):\n",
    "        \n",
    "        # Unit conversion factors (input units --> SI)\n",
    "        self.ft_to_m_ = 0.3048\n",
    "        self.psi_to_pa_ = 6894.75729\n",
    "        self.day_to_sec_ = 24.*60.*60.\n",
    "        self.bbl_to_m3_ = 0.1589873\n",
    "        # Grid\n",
    "        self.N_ = N\n",
    "        self.rw_ = rw*self.ft_to_m_\n",
    "        self.re_ = re*self.ft_to_m_\n",
    "        self.h_ = h*self.ft_to_m_\n",
    "        # Rock and fluid properties\n",
    "        self.k_ = k*1e-15 / 1.01325\n",
    "        self.phi_ = phi\n",
    "        self.mu_ = mu*1e-3\n",
    "        self.ct_ = ct / self.psi_to_pa_\n",
    "        # Initial and boundary conditions\n",
    "        self.Q_ = Q*self.bbl_to_m3_ / self.day_to_sec_\n",
    "        self.pi_ = pi*self.psi_to_pa_\n",
    "        # Time control for simulation\n",
    "        self.dt_ = dt*self.day_to_sec_\n",
    "\n",
    "        self.alpha=self.Q_*self.mu_/(2*math.pi*self.h_ *self.k_)\n",
    "        self.ye=np.log(self.re_/self.rw_)\n",
    "        self.deltay=self.ye/self.N_\n",
    "        self.y=np.arange(0,self.ye,self.deltay)+self.deltay/2\n",
    "        self.eta=self.k_/(self.ct_*self.phi_*self.mu_)\n",
    "        self.xi=self.eta*np.exp(-2*self.y)*self.dt_/(self.rw_**2*self.deltay**2)\n",
    "        self.beta=self.alpha*self.deltay\n",
    "\n",
    "        self.p_old=np.ones(self.N_)*self.pi_\n",
    "        self.a=-self.xi[1:self.N_]\n",
    "        self.b=1+2*self.xi\n",
    "        self.b[0]=1+self.xi[0]\n",
    "        self.b[-1]=1+3*self.xi[-1]    \n",
    "        self.c=-self.xi[0:self.N_-1]\n",
    "        self.A=self.tri_diag()\n",
    "        self.t=0\n",
    "        self.t_final=t_final*self.day_to_sec_\n",
    "\n",
    "        self.ri_array = self.rw_*np.exp(self.y)\n",
    "\n",
    "        #SParse Matrix Generation  #E3.2\n",
    "        self.diagonals=np.zeros((3,self.N_))\n",
    "    \n",
    "        self.diagonals[0,:-1]= -self.xi[1:]\n",
    "        #self.diagonals[0,1:2]= -self.xi[2]\n",
    "        #self.diagonals[0,2:3]= -self.xi[3]\n",
    "    \n",
    "        self.diagonals[1,:]= (1+2*self.xi)           \n",
    "        self.diagonals[2,1:]= -self.xi[:-1]\n",
    "    \n",
    "        self.diagonals[1,-1]= 1+3*self.xi[-1]\n",
    "        self.diagonals[1,0]= 1+self.xi[0]\n",
    "    \n",
    "        self.A_sparse = sc.sparse.spdiags(self.diagonals, [-1,0,1],self.N_,self.N_,format=\"csc\")\n",
    "    \n",
    "        #thomas algorithm\n",
    "    \n",
    "        self.main_diagonal=self.b\n",
    "\n",
    "    def tri_diag(self, k1=-1, k2=0, k3=1):\n",
    "        return np.diag(self.a, k1) + np.diag(self.b, k2) + np.diag(self.c, k3)\n",
    "\n",
    "    def plotMatrix(self): #E2.2\n",
    "        print(self.A)\n",
    "    \n",
    "    def solveMatrix(self,solvernr): #E3.2\n",
    "        self.d=self.p_old\n",
    "        self.d[0] = -self.beta*self.xi[0]\n",
    "        self.d[-1] = 2*self.pi_*self.xi[self.N_-1]\n",
    "        if solvernr==0:\n",
    "            timer_start=timeit.default_timer()\n",
    "            print(\"dense (numpy.linalg.solve):\\n\", np.linalg.solve(self.A, self.d))\n",
    "            timer_stop=timeit.default_timer()\n",
    "            print(\"Time of dense (numpy.linalg.solve):\\n\",timer_stop-timer_start)\n",
    "        elif solvernr==1:\n",
    "            timer_start=timeit.default_timer()\n",
    "            print(\"SciPy (scipy.sparse.linalg.spsolve):\\n\",sc.sparse.linalg.spsolve(self.A_sparse, self.d))\n",
    "            timer_stop=timeit.default_timer()\n",
    "            print(\"Time of SciPy (scipy.sparse.linalg.spsolv:\\n\",timer_stop-timer_start)\n",
    "        elif solvernr==2:\n",
    "            timer_start=timeit.default_timer()\n",
    "            self.solution = np.zeros_like(self.main_diagonal)\n",
    "            # Forward elimination\n",
    "            for k in range(1, len(self.d)):\n",
    "                self.xmult = self.a[k-1] / self.main_diagonal[k-1]\n",
    "                self.main_diagonal[k] = self.main_diagonal[k] - self.xmult*self.c[k-1]\n",
    "                self.d[k] = self.d[k] - self.xmult*self.d[k-1]\n",
    "\n",
    "           # Back-substitution\n",
    "            self.solution[len(self.solution)-1] = self.d[len(self.solution)-1] / self.main_diagonal[len(self.solution)-1]\n",
    "            for k in range(len(self.d)-2, -1, -1):\n",
    "                self.solution[k] = (self.d[k]-self.c[k]*self.solution[k+1])/self.main_diagonal[k]\n",
    "            print(\"Thomas algorithm:\\n\",self.solution)\n",
    "            timer_stop=timeit.default_timer()\n",
    "            print(\"Time of Thomas algorithm:\\n\",timer_stop-timer_start)\n",
    "        else:\n",
    "            print(\"Try again\")\n",
    "\n",
    "    def analytical(self,y):\n",
    "        return self.pi_+self.alpha*(y-self.ye)\n",
    "\n",
    "    def solve_time_old(self): #E2.3\n",
    "        \n",
    "\n",
    "        \n",
    "        while self.t<self.t_final:\n",
    "            self.solve()\n",
    "            self.p_old=np.copy(self.pn)\n",
    "            self.t +=self.dt_\n",
    "            \n",
    "    \n",
    "    def solve_time(self):\n",
    "        \n",
    "        self.all_time=[]\n",
    "        self.all_pressure=[]\n",
    "        \n",
    "\n",
    "        while self.t<self.t_final:\n",
    "            self.solve()\n",
    "            self.p_old=np.copy(self.pn)\n",
    "            self.t +=self.dt_\n",
    "            self.all_time.append(self.t)\n",
    "            self.all_pressure.append(self.pn)\n",
    "            \n",
    "        \n",
    "        self.all_time=np.array(self.all_time)\n",
    "        self.all_pressure=np.array(self.all_pressure)\n",
    "        \n",
    "        #print(self.all_time)\n",
    "\n",
    "    def solve(self):  #E2.3\n",
    "        self.d=np.zeros(self.N_)\n",
    "        self.d[0]=-self.beta*self.xi[0]\n",
    "        self.d[-1]=2*self.pi_*self.xi[self.N_-1]\n",
    "        self.d = self.d+self.p_old\n",
    "        self.pn=np.linalg.solve(self.A,self.d)\n",
    "        \n",
    "    def calc_well_pressure(self):\n",
    "        #P_well= self.pn[0] - self.deltay/2*self.alpha #exercise 4 part 2\n",
    "        p0_time = self.all_pressure[:, 0]\n",
    "        Pwell_time = p0_time - solver.beta*0.5\n",
    "        #Pwell_current = Pwell_time[-1]\n",
    "        #print(\"The actual observable  well pressure is:\" + str(Pwell_current/self.psi_to_pa_) + \" Psi\")\n",
    "        return self.all_time, Pwell_time\n",
    "    \n",
    "\n",
    "    def plot(self): #E2.3\n",
    "        self.pa=self.analytical(self.y)\n",
    "        plt.title(\"Pressure change time \" + str(self.t/(24*60*60))+ \" days\")\n",
    "        plt.plot(self.y,self.pn,\"*\", label=\"numerical n=\" + str(self.N_))\n",
    "        plt.plot(self.y,self.pa, label=\"analytical\" )\n",
    "        plt.xlabel(\"y\")\n",
    "        plt.ylabel(\"Pressure in Pascal\")\n",
    "        plt.legend()\n",
    "        plt.grid()\n",
    "        plt.show()\n",
    "        self.Ni=self.N_//2\n",
    "        self.yi=self.y[self.Ni]\n",
    "        self.err=np.abs(self.pn[self.Ni]-self.analytical(self.yi))\n",
    "        print(\"error at point \" + str(self.Ni)+\" is=\"+str(self.err),\"\\n\")\n",
    "\n",
    "    def line_source_solution(self, r, t): #E3.1\n",
    "        return self.pi_+ ((self.Q_*self.mu_ * sc.special.expi(-r*r/(4*self.eta*t))/(4*np.pi*self.k_*self.h_)))\n",
    "\n",
    "    def plot_pysical_coor(self):  #E3.1\n",
    "        #self.solve()\n",
    "        P_l=self.line_source_solution(self.ri_array,self.t)\n",
    "        plt.plot(self.ri_array,self.pn/self.psi_to_pa_,label=\"numercail\")\n",
    "        plt.plot(self.ri_array,P_l/self.psi_to_pa_,label=\"Line source\")\n",
    "        plt.xlabel(\"Pysical coordinate\")\n",
    "        plt.ylabel(\"Pressure in Psi\")\n",
    "        plt.xscale(\"log\")\n",
    "        plt.grid()\n",
    "        plt.legend()\n",
    "    \n",
    "    def plot_well_pressure(self, include_model=False, include_line_source=False): #exercise 4 part 3\n",
    "        \n",
    "        fig = plt.figure()\n",
    "        \n",
    "        # Data\n",
    "        well_bhp =pd.read_csv('data/well_bhp.dat',sep='\\t')\n",
    "        time =well_bhp['time'].to_numpy()\n",
    "        well_pressure= well_bhp['well_pressure'].to_numpy()\n",
    "        plt.scatter(time, well_pressure, label='Data')\n",
    "        \n",
    "        if include_model:\n",
    "            tw, pw = self.calc_well_pressure()\n",
    "            plt.plot(tw/3600., pw/self.psi_to_pa_, label='Model')\n",
    "        \n",
    "        if include_line_source:\n",
    "            tw, pw = self.calc_well_pressure()\n",
    "            Pwell_line = self.line_source_solution(self.rw_, tw)/self.psi_to_pa_\n",
    "            plt.scatter(tw/3600., Pwell_line)\n",
    "        \n",
    "        plt.title('Well data graph')\n",
    "        plt.xlabel('Time')\n",
    "        plt.ylabel('Well Pressure PSI')\n",
    "        plt.grid()\n",
    "        plt.legend()\n",
    "        \n",
    "R=RadialDiffusivityEquationSolver(4,0.01)\n",
    "\n"
   ]
  },
  {
   "cell_type": "markdown",
   "metadata": {},
   "source": [
    "## Part 2. \n",
    "Again let N = 4. Assume default model input parameters, and that $\\Delta t = 0$.01 day."
   ]
  },
  {
   "cell_type": "markdown",
   "metadata": {},
   "source": [
    "* Show that the matrix is (in SI units):  \n",
    "$$\\begin{pmatrix} 6.30844146e + 03\t & −6.30744146e + 03\t & 0.00000000e + 00 & 0.00000000e + 00 \\\\ −1.14232623e + 02 & 2.29465247e + 02 & −1.14232623e + 02 & 00.00000000e + 00 \\\\ 0.00000000e + 00 & −2.06884080e + 00 & 5.13768160e + 00 &−2.06884080e + 00\\\\ 0.00000000e + 00 & 0.00000000e + 00 & −3.74683004e − 02 & 1.11240490e + 00 \\end{pmatrix}$$  "
   ]
  },
  {
   "cell_type": "code",
   "execution_count": 4,
   "metadata": {},
   "outputs": [
    {
     "name": "stdout",
     "output_type": "stream",
     "text": [
      "[[ 6.30844146e+03 -6.30744146e+03  0.00000000e+00  0.00000000e+00]\n",
      " [-1.14232623e+02  2.29465247e+02 -1.14232623e+02  0.00000000e+00]\n",
      " [ 0.00000000e+00 -2.06884080e+00  5.13768160e+00 -2.06884080e+00]\n",
      " [ 0.00000000e+00  0.00000000e+00 -3.74683004e-02  1.11240490e+00]]\n"
     ]
    }
   ],
   "source": [
    "R1=RadialDiffusivityEquationSolver(4,0.01)\n",
    "R1.plotMatrix()"
   ]
  },
  {
   "cell_type": "markdown",
   "metadata": {
    "id": "3yW8d2d0GnSm"
   },
   "source": [
    "##  Part 3.  "
   ]
  },
  {
   "cell_type": "markdown",
   "metadata": {
    "id": "wDrJZJLG8Y94"
   },
   "source": [
    "* Implement a simulator that solves the time-dependent problem for any choice of input parameters."
   ]
  },
  {
   "cell_type": "code",
   "execution_count": 5,
   "metadata": {
    "colab": {
     "base_uri": "https://localhost:8080/",
     "height": 329
    },
    "executionInfo": {
     "elapsed": 297,
     "status": "ok",
     "timestamp": 1634083747019,
     "user": {
      "displayName": "Matsuhiro Shi",
      "photoUrl": "https://lh3.googleusercontent.com/a/default-user=s64",
      "userId": "10142549915009995010"
     },
     "user_tz": -120
    },
    "id": "9uK-N47xIJ4g",
    "outputId": "7e0554c2-13dc-436d-a867-62216600f2a6"
   },
   "outputs": [
    {
     "data": {
      "image/png": "[encoded data removed]",
      "text/plain": [
       "<Figure size 432x288 with 1 Axes>"
      ]
     },
     "metadata": {
      "needs_background": "light"
     },
     "output_type": "display_data"
    },
    {
     "name": "stdout",
     "output_type": "stream",
     "text": [
      "error at point 20 is=2971.427111182362 \n",
      "\n"
     ]
    }
   ],
   "source": [
    "time_solver=RadialDiffusivityEquationSolver(40,10)\n",
    "time_solver.solve_time_old()\n",
    "time_solver.plot()"
   ]
  },
  {
   "cell_type": "markdown",
   "metadata": {
    "id": "kvBSxjfBIgCS"
   },
   "source": [
    "# Exercise 3: Accuracy and performance"
   ]
  },
  {
   "cell_type": "markdown",
   "metadata": {
    "id": "pi8dxi7F7_Yi"
   },
   "source": [
    "## Part 1.  \n"
   ]
  },
  {
   "cell_type": "markdown",
   "metadata": {
    "id": "8PwqYyPz8Nwd"
   },
   "source": [
    "* Compare your numerical solution with the line-source solution given by equation (12). Do this for several values of N. To do the comparison you need to plot your solution in terms of the physical coordinates (i.e., $r(y) = r_we^y$).  \n",
    "$$p(r,t)=p_i+\\frac{Q\\mu}{4\\pi kh}\\cdot\\mathcal W(-\\frac{r^2}{4\\eta t})\\qquad\\qquad(12)$$"
   ]
  },
  {
   "cell_type": "code",
   "execution_count": 6,
   "metadata": {
    "colab": {
     "base_uri": "https://localhost:8080/",
     "height": 283
    },
    "executionInfo": {
     "elapsed": 783,
     "status": "ok",
     "timestamp": 1634083750823,
     "user": {
      "displayName": "Matsuhiro Shi",
      "photoUrl": "https://lh3.googleusercontent.com/a/default-user=s64",
      "userId": "10142549915009995010"
     },
     "user_tz": -120
    },
    "id": "XH-NhUmrL3Rd",
    "outputId": "ff27b784-2b67-45a4-8d4c-0435d3be349c"
   },
   "outputs": [
    {
     "data": {
      "image/png": "[encoded data removed]",
      "text/plain": [
       "<Figure size 432x288 with 1 Axes>"
      ]
     },
     "metadata": {
      "needs_background": "light"
     },
     "output_type": "display_data"
    }
   ],
   "source": [
    "Line_numerical=RadialDiffusivityEquationSolver(40,0.01)\n",
    "Line_numerical.solve_time_old()\n",
    "\n",
    "Line_numerical.plot_pysical_coor()"
   ]
  },
  {
   "cell_type": "markdown",
   "metadata": {
    "id": "HiRDtcWAiSrW"
   },
   "source": [
    "## Part 2. "
   ]
  },
  {
   "cell_type": "markdown",
   "metadata": {
    "id": "2dqyGKyx1MmA"
   },
   "source": [
    "Next, we want to take advantage of the symmetry of the problem. At run-time, the simulator should be able to choose between three different matrix solvers (dense (numpy.linalg.solve), sparse using SciPy (scipy.sparse.linalg.spsolve), and sparse using the Thomas algorithm)."
   ]
  },
  {
   "cell_type": "markdown",
   "metadata": {
    "id": "PsBkYJ5A1eeR"
   },
   "source": [
    "* Use the %timeit option in Jupyter to evaluate the speed of each solver.  \n",
    "* How large must N be in order to see a difference?"
   ]
  },
  {
   "cell_type": "code",
   "execution_count": 7,
   "metadata": {
    "colab": {
     "base_uri": "https://localhost:8080/"
    },
    "executionInfo": {
     "elapsed": 251,
     "status": "ok",
     "timestamp": 1634083815773,
     "user": {
      "displayName": "Matsuhiro Shi",
      "photoUrl": "https://lh3.googleusercontent.com/a/default-user=s64",
      "userId": "10142549915009995010"
     },
     "user_tz": -120
    },
    "id": "jv-HS7XbmDb_",
    "outputId": "1ae346d9-36ed-4269-f5e0-3452f29d2cad"
   },
   "outputs": [
    {
     "name": "stdout",
     "output_type": "stream",
     "text": [
      "dense (numpy.linalg.solve):\n",
      " [9153389.5103569  9642998.31043677 9981629.61715872 2147605.09177953]\n",
      "Time of dense (numpy.linalg.solve):\n",
      " 0.0004574250000004554\n",
      "SciPy (scipy.sparse.linalg.spsolve):\n",
      " [9153389.51035691 9642998.31043678 9981629.61715872 2147605.09177953]\n",
      "Time of SciPy (scipy.sparse.linalg.spsolv:\n",
      " 0.010541422999999384\n",
      "Thomas algorithm:\n",
      " [9153389.51035691 9642998.31043678 9981629.61715872 2147605.09177953]\n",
      "Time of Thomas algorithm:\n",
      " 0.00019401899999849093\n"
     ]
    }
   ],
   "source": [
    "for i in range(3):\n",
    "    R.solveMatrix(i)"
   ]
  },
  {
   "cell_type": "markdown",
   "metadata": {
    "id": "eZ7JAZFc_G7c"
   },
   "source": [
    "> The fastest method is Thomas algorithm and N=4 is enough to see a difference."
   ]
  },
  {
   "cell_type": "markdown",
   "metadata": {
    "id": "5UkNwvMgzTXT"
   },
   "source": [
    "# Exercise 4: Match model to well test data"
   ]
  },
  {
   "cell_type": "markdown",
   "metadata": {
    "id": "-Rq-PhfuWD7C"
   },
   "source": [
    "In the final exercise we are going to study data from a well test. During a well test, the production engineer starts to produce from the reservoir, while monitoring how well pressure changes in time."
   ]
  },
  {
   "cell_type": "markdown",
   "metadata": {
    "id": "YaRHxY76WLSa"
   },
   "source": [
    "## part 1."
   ]
  },
  {
   "cell_type": "markdown",
   "metadata": {
    "id": "Dcx1aiatWRMn"
   },
   "source": [
    "So far, we have calculated the pressure distribution inside the reservoir. The actual observable well pressure is missing from our calculations, but we can estimate it by discretizing equation (11)."
   ]
  },
  {
   "cell_type": "markdown",
   "metadata": {
    "id": "32-hV5ffW_z9"
   },
   "source": [
    "* Use a first-order finite difference approximation to find a formula for the well pressure in terms of the well block pressure, $p_0$."
   ]
  },
  {
   "cell_type": "markdown",
   "metadata": {},
   "source": [
    ">According to equation (31) from the Exercise, we have:  \n",
    "$$\\frac{\\rm d^2p}{\\rm dy^2}\\bigg|_{i}=\\frac{ p_{i+1}^{n+1} + p_{i-1}^{n+1} - 2p_{i}^{n+1}}{\\Delta \n",
    "y^2}+\\mathcal O(\\Delta y^2)$$  \n",
    "\n",
    "And we know from equation(16) that $\\frac{d^2p}{dy^2}=0$\n",
    "\n",
    "\n",
    "Hence, we can find a formula for well prssure in terms of the well block pressure $P_0$ by applying the implicit time-discreization at grid point $P_w$ with setp-size $\\frac{\\Delta y}{2}$. We get:\n",
    "\n",
    "\n",
    "\n",
    "\n",
    "$$\\frac{p_0^{n+1} + p_{-1}^{n+1} - 2p_{w}^{n+1}}{(\\frac{\\Delta \n",
    "y}{2})^2}+\\mathcal O(\\frac{\\Delta y}{2})^2=0$$ \n",
    "\n",
    "$$p_{0}^{n+1} + p_{-1}^{n+1} - 2p_{w}^{n+1} +\\mathcal O(\\frac{\\Delta y}{2})^4=0 \n",
    "\\tag{14}\n",
    "$$\n",
    "\n",
    "\n",
    "\n"
   ]
  },
  {
   "cell_type": "markdown",
   "metadata": {},
   "source": [
    "And central difference approximation to express the pressure at \"the ghost node\" $i = w$ in terms of $p_{-1}$:  \n",
    "$$\\frac{\\rm dp}{\\rm dy}\\bigg|_{y = w}=\\frac{p_w-p_{-1}}{(\\frac{\\Delta \n",
    "y}{2})}+\\mathcal O(\\frac{\\Delta y}{2})=\\alpha$$  \n",
    "$$\\Rightarrow p_{-1}=p_w-\\alpha\\frac{\\Delta y}{2}-\\mathcal O(\\frac{\\Delta y}{2})\n",
    "\\tag{15}$$  "
   ]
  },
  {
   "cell_type": "markdown",
   "metadata": {},
   "source": [
    "By inserting equation(15) into eeqaution(14), we get the following:\n",
    "\n",
    "$$p_{0}^{n+1} - p_{w}^{n+1} - \\alpha\\frac{\\Delta y}{2}-\\mathcal O(\\frac{\\Delta y}{2})^4 -\\mathcal O(\\frac{\\Delta y}{2})=0 \n",
    "$$\n"
   ]
  },
  {
   "cell_type": "markdown",
   "metadata": {},
   "source": [
    "Hence, the well pressure formula in terms of the well block pressure is:\n",
    "$$p_{w}^{n+1}= p_{0}^{n+1} - \\alpha\\frac{\\Delta y}{2}-\\mathcal O(\\frac{\\Delta y}{2})^4 -\\mathcal O(\\frac{\\Delta y}{2})\n",
    "\\tag{16}\n",
    "$$"
   ]
  },
  {
   "cell_type": "markdown",
   "metadata": {
    "id": "fHbooXYNEOvX"
   },
   "source": [
    "## Part 2.  "
   ]
  },
  {
   "cell_type": "code",
   "execution_count": 8,
   "metadata": {},
   "outputs": [
    {
     "name": "stdout",
     "output_type": "stream",
     "text": [
      "The final well pressure is 3616.7949067866393 psi\n"
     ]
    }
   ],
   "source": [
    "solver=RadialDiffusivityEquationSolver(4,0.01)\n",
    "solver.solve_time()\n",
    "t, pw = solver.calc_well_pressure()\n",
    "print(f'The final well pressure is {pw[-1]/solver.psi_to_pa_} psi')"
   ]
  },
  {
   "cell_type": "markdown",
   "metadata": {
    "id": "pnwwoMZbABuB"
   },
   "source": [
    "## Part 3."
   ]
  },
  {
   "cell_type": "code",
   "execution_count": 9,
   "metadata": {},
   "outputs": [
    {
     "data": {
      "image/png": "[encoded data removed]",
      "text/plain": [
       "<Figure size 432x288 with 1 Axes>"
      ]
     },
     "metadata": {
      "needs_background": "light"
     },
     "output_type": "display_data"
    }
   ],
   "source": [
    "#A=RadialDiffusivityEquationSolver(4,0.01)\n",
    "A=RadialDiffusivityEquationSolver(4, 0.01,t_final=1750/24) \n",
    "A.solve_time()\n",
    "A.plot_well_pressure(include_model=True, include_line_source=False)\n",
    "\n"
   ]
  },
  {
   "cell_type": "markdown",
   "metadata": {},
   "source": [
    "##  Part 4"
   ]
  },
  {
   "cell_type": "code",
   "execution_count": 10,
   "metadata": {},
   "outputs": [
    {
     "data": {
      "image/png": "[encoded data removed]",
      "text/plain": [
       "<Figure size 432x288 with 1 Axes>"
      ]
     },
     "metadata": {
      "needs_background": "light"
     },
     "output_type": "display_data"
    }
   ],
   "source": [
    "B=RadialDiffusivityEquationSolver(40, 0.01,k=315,re=7200,t_final=1750/24) #exercise 4.part 4\n",
    "B.solve_time()\n",
    "B.plot_well_pressure(include_model=True, include_line_source=True)\n",
    "\n"
   ]
  },
  {
   "cell_type": "markdown",
   "metadata": {},
   "source": [
    "## Part 5"
   ]
  },
  {
   "cell_type": "markdown",
   "metadata": {},
   "source": [
    "From part 4 in this exercise we found that $r_e=7200 ft$. We can calculate the total volume of water by assuming that the reservoir has a cylindrical shape:\n",
    "\n",
    "The water volume forluma is :\n",
    "\n",
    "$V_{water}= (r_e - r_w)^2.\\pi.h.\\phi$\n",
    "\n",
    "$r_w$= 0.328 ft\n",
    "\n",
    "Thus, the total volume of water is:\n",
    "\n",
    "$V_{water}= (7200-0.328)^2*\\pi8*0.2$= $260552520 ft^3$ ≈ $7.38*10^6 m^3$\n",
    "\n"
   ]
  },
  {
   "cell_type": "markdown",
   "metadata": {
    "id": "itpGztirBZ7E"
   },
   "source": [
    "## Conclusion and Discussion  \n",
    "\n",
    "It is amazing how python can be such as useful tool to solve almost any kind of problem, its reach depends actually on how you see the things and how you can analyze them. \n",
    "\n",
    "Through this assignment, we are familiar with the way of combining markdown and code to write reports. During these two weeks, we reviewed how to implement a certain function and classes in different ways by python, numerical round-off and truncation errors and scientific computing, which are showed in the course. \n",
    "From the project we learnt about the main libraries and its main functions and how when we apply our knowledge and our analyze-skill we can solve problems in efficient ways. Also, we learnt that there are some methods that help us to calculate derivates in easy ways but there is still an error that we should quantify and take it into account, so we take good decisions based on that.\n",
    "\n",
    "Finally, we land all the knowledge that we got from initial exercises and used it to understand the base of data provided in order to get to know how much ice can get melt from the Antarctic if the climate-change keep its fast pace.\n",
    "It is quiet surprising that the sea level will rise 68 meters if the Arctic glacier melts completely. It is hard to imagine how many places will be submerged by a 68-meter rise in sea level. I hope that future exercises will have more opportunities to come into contact with these open resources, so that people can more intuitively understand the current status of the earth, instead of following the media to do meaningless emotional catharsis.\n",
    "\n",
    "There are some limitations on this due to we are not taking all the variables that could be present here, but at least give us a clear view of what could happen if we do not to something about this.\n"
   ]
  },
  {
   "cell_type": "markdown",
   "metadata": {
    "id": "Zv7uGovGBalg"
   },
   "source": [
    "## Self-Reflections  \n",
    "\n",
    "**Armin Sabri** – Since my background is Petroleum Engineering  and I might face these type of problems in my professional carrer. I founded really interested knowing how to solve this kind of problems, which were can be formulated from very basic equations and transformed into systems that can be solved taking into account many variables that could affect the outcomes. But also I liked learnt how to code this situation in a programming language so the solution can be efficient modified as we get more information, so I enjoyed doing this project and I would like to learnt more about the application of this methods so I can take a more wide-vision of the applications of these new topics. As a comment it was hard to code, we got a lot of errors during code but at the end of the point we learnt.\n",
    "\n",
    "**Reynel Villabona** – I founded really interesting but also hard to understand how the diffusity equation can be solved for many applications like the change of the temperature, I would like to see how other variables can be introduced in the system as long as we got more relevant information. Also I consider myself as a person who likes to see everything in its real-life application so it is easier for me to understand and land my ideas. I would like to keep understanding more about modelling cause I would like to join the Drillbotics team of Uni, since I like how we can predict behaviors so we can lay out efficient solutions in an anticipated manner. I found really useful the laboratory sessions cause is an space where our doubts can be solve, if we get stuck in one part also to get help regarding the coding."
   ]
  },
  {
   "cell_type": "markdown",
   "metadata": {
    "id": "-6GG0oH2X-yq"
   },
   "source": [
    "# References\n",
    "  [0] Python. What is Python? Executive Summary. https://www.python.org/doc/essays/blurb/.  \n",
    "  [1] Python docs. sys — System-specific parameters and functions. https://docs.python.org/3/library/sys.html.  \n",
    "  [2] BBC news. https://www.bbc.com/news/health-51674743"
   ]
  },
  {
   "cell_type": "code",
   "execution_count": null,
   "metadata": {},
   "outputs": [],
   "source": []
  }
 ],
 "metadata": {
  "colab": {
   "collapsed_sections": [],
   "name": "Project 2.ipynb",
   "provenance": []
  },
  "kernelspec": {
   "display_name": "Python 3",
   "language": "python",
   "name": "python3"
  },
  "language_info": {
   "codemirror_mode": {
    "name": "ipython",
    "version": 3
   },
   "file_extension": ".py",
   "mimetype": "text/x-python",
   "name": "python",
   "nbconvert_exporter": "python",
   "pygments_lexer": "ipython3",
   "version": "3.8.8"
  },
  "toc": {
   "base_numbering": 1,
   "nav_menu": {},
   "number_sections": true,
   "sideBar": true,
   "skip_h1_title": false,
   "title_cell": "Table of Contents",
   "title_sidebar": "Contents",
   "toc_cell": false,
   "toc_position": {},
   "toc_section_display": true,
   "toc_window_display": false
  }
 },
 "nbformat": 4,
 "nbformat_minor": 1
}
